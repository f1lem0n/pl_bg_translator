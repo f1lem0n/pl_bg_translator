{
 "cells": [
  {
   "cell_type": "markdown",
   "metadata": {},
   "source": [
    "# Tłumacz polsko-bułgarski oparty o architekturę transformera"
   ]
  },
  {
   "cell_type": "markdown",
   "metadata": {},
   "source": [
    "## Biblioteki i ustawienia"
   ]
  },
  {
   "cell_type": "code",
   "execution_count": 18,
   "metadata": {},
   "outputs": [],
   "source": [
    "import json\n",
    "import warnings\n",
    "\n",
    "from torchtext.data import Field, BucketIterator\n",
    "from tqdm import tqdm\n",
    "import matplotlib.pyplot as plt\n",
    "import spacy\n",
    "import torch\n",
    "import torch.nn as nn\n",
    "import torch.nn.functional as F\n",
    "import torch.optim as optim\n",
    "\n",
    "from utils import get_dataset_splits, random_eval, get_batch_bleu, print_dataset_info, get_subset"
   ]
  },
  {
   "cell_type": "code",
   "execution_count": 19,
   "metadata": {},
   "outputs": [],
   "source": [
    "warnings.filterwarnings(\"ignore\")"
   ]
  },
  {
   "cell_type": "code",
   "execution_count": 4,
   "metadata": {},
   "outputs": [
    {
     "name": "stdout",
     "output_type": "stream",
     "text": [
      "Python 3.12.3\n"
     ]
    }
   ],
   "source": [
    "!python --version"
   ]
  },
  {
   "cell_type": "code",
   "execution_count": 5,
   "metadata": {},
   "outputs": [
    {
     "data": {
      "text/plain": [
       "device(type='cpu')"
      ]
     },
     "execution_count": 5,
     "metadata": {},
     "output_type": "execute_result"
    }
   ],
   "source": [
    "DEVICE = torch.device(\"cuda\" if torch.cuda.is_available() else \"cpu\")\n",
    "DEVICE"
   ]
  },
  {
   "cell_type": "code",
   "execution_count": 6,
   "metadata": {},
   "outputs": [],
   "source": [
    "# training hyperparameters\n",
    "LEARNING_RATE = 1e-4\n",
    "NUM_EPOCHS = 50\n",
    "BATCH_SIZE = 32\n",
    "\n",
    "# model hyperparameters\n",
    "EMBEDDING_SIZE = 128\n",
    "NUM_ENC_LAYERS = 3\n",
    "NUM_DEC_LAYERS = 3\n",
    "TOKEN_LIMIT = 32\n",
    "DIM_FEEDFORWARD = 16\n",
    "NUM_HEADS = 8\n",
    "DROPOUT = 0.1\n",
    "\n",
    "# other\n",
    "ENABLE_TRAINING = True\n",
    "SUBSET_RATIO = 0.01\n",
    "CORPUS_PATH = \"./raw_data/\"\n",
    "TRAIN_DATASET_PATH = f\"./datasets/train_dataset_{TOKEN_LIMIT}.pkl\"\n",
    "TEST_DATASET_PATH = f\"./datasets/test_dataset_{TOKEN_LIMIT}.pkl\"\n",
    "MODEL_PATH = f\"./serialized_models/model_v1\""
   ]
  },
  {
   "cell_type": "markdown",
   "metadata": {},
   "source": [
    "## Tokenizatory"
   ]
  },
  {
   "cell_type": "markdown",
   "metadata": {},
   "source": [
    "Zaprojektowałem dwa tokenizatory, osobno dla każdego języka. Są one oparte o modele `pl_core_news_lg` i `uk_core_news_lg` z biblioteki `spacy`. Jak widać dla języka bułgarskiego użyty został model przeznaczony dla języka ukraińskiego. Jest to spowodowane brakiem modelu dla języka bułgarskiego w bibliotece `spacy` oraz wysokim podobieństwem tych języków. Zakładam, że nie powinno to negatywnie wpłynąć na jakość tłumaczenia."
   ]
  },
  {
   "cell_type": "code",
   "execution_count": 7,
   "metadata": {},
   "outputs": [],
   "source": [
    "nlp_pl = spacy.load(\"pl_core_news_lg\")\n",
    "nlp_bg = spacy.load(\"uk_core_news_lg\")"
   ]
  },
  {
   "cell_type": "code",
   "execution_count": 8,
   "metadata": {},
   "outputs": [],
   "source": [
    "def tokenize_pl(text):\n",
    "    return [token.text for token in nlp_pl.tokenizer(text)]\n",
    "\n",
    "def tokenize_bg(text):\n",
    "    return [token.text for token in nlp_bg.tokenizer(text)]"
   ]
  },
  {
   "cell_type": "code",
   "execution_count": 9,
   "metadata": {},
   "outputs": [],
   "source": [
    "polish = Field(\n",
    "    tokenize=tokenize_pl, lower=True,\n",
    "    init_token=\"<bos>\", eos_token=\"<eos>\"\n",
    ")\n",
    "\n",
    "bulgarian = Field(\n",
    "    tokenize=tokenize_bg, lower=True,\n",
    "    init_token=\"<bos>\", eos_token=\"<eos>\"\n",
    ")"
   ]
  },
  {
   "cell_type": "markdown",
   "metadata": {},
   "source": [
    "## Wczytanie danych"
   ]
  },
  {
   "cell_type": "code",
   "execution_count": 10,
   "metadata": {},
   "outputs": [
    {
     "name": "stdout",
     "output_type": "stream",
     "text": [
      "Loading dataset from: ./datasets/train_dataset_sub0.01_32.pkl\n",
      "Loading dataset from: ./datasets/test_dataset_sub0.01_32.pkl\n",
      "Done.\n",
      "\n",
      "<|TRAIN SET|>\n",
      "number of examples: 217228\n",
      "number of source tokens: 755338\n",
      "number of target tokens: 700961\n",
      "\n",
      "\n",
      "<|TEST SET|>\n",
      "number of examples: 24080\n",
      "number of source tokens: 83504\n",
      "number of target tokens: 77626\n",
      "\n"
     ]
    }
   ],
   "source": [
    "fields = [(\"src\", polish), (\"tgt\", bulgarian)]\n",
    "train_dataset, test_dataset = get_dataset_splits(\n",
    "    train_dataset_path=TRAIN_DATASET_PATH,\n",
    "    test_dataset_path=TEST_DATASET_PATH,\n",
    "    corpus_path=CORPUS_PATH,\n",
    "    max_len=TOKEN_LIMIT,\n",
    "    fields=fields,\n",
    ")"
   ]
  },
  {
   "cell_type": "code",
   "execution_count": 11,
   "metadata": {},
   "outputs": [
    {
     "name": "stdout",
     "output_type": "stream",
     "text": [
      "\n",
      "<|TRAIN SET|>\n",
      "number of examples: 2172\n",
      "number of source tokens: 7362\n",
      "number of target tokens: 6874\n",
      "\n",
      "\n",
      "<|TEST SET|>\n",
      "number of examples: 240\n",
      "number of source tokens: 822\n",
      "number of target tokens: 775\n",
      "\n"
     ]
    }
   ],
   "source": [
    "train_dataset = get_subset(train_dataset, SUBSET_RATIO)\n",
    "test_dataset = get_subset(test_dataset, SUBSET_RATIO)\n",
    "print_dataset_info(train_dataset, \"train\")\n",
    "print_dataset_info(test_dataset, \"test\")"
   ]
  },
  {
   "cell_type": "code",
   "execution_count": 12,
   "metadata": {},
   "outputs": [],
   "source": [
    "polish.build_vocab(train_dataset, max_size=10000, min_freq=2)\n",
    "bulgarian.build_vocab(train_dataset, max_size=10000, min_freq=2)"
   ]
  },
  {
   "cell_type": "code",
   "execution_count": 13,
   "metadata": {},
   "outputs": [],
   "source": [
    "train_iterator, test_iterator = BucketIterator.splits(\n",
    "    (train_dataset, test_dataset),\n",
    "    batch_size=BATCH_SIZE,\n",
    "    sort_within_batch=True,\n",
    "    sort_key = lambda x: len(x.src),\n",
    "    device=DEVICE\n",
    ")"
   ]
  },
  {
   "cell_type": "markdown",
   "metadata": {},
   "source": [
    "## Architektura modelu"
   ]
  },
  {
   "cell_type": "code",
   "execution_count": 14,
   "metadata": {},
   "outputs": [],
   "source": [
    "class PL2BG(nn.Module):\n",
    "    def __init__(\n",
    "        self,\n",
    "        embedding_size,\n",
    "        src_vocab_size,\n",
    "        tgt_vocab_size,\n",
    "        src_pad_idx,\n",
    "        num_heads,\n",
    "        num_encoder_layers,\n",
    "        num_decoder_layers,\n",
    "        dim_feedforward,\n",
    "        dropout,\n",
    "        token_limit,\n",
    "        device,\n",
    "    ):\n",
    "        super(PL2BG, self).__init__()\n",
    "        self.src_word_embedding = nn.Embedding(src_vocab_size, embedding_size)\n",
    "        self.tgt_word_embedding = nn.Embedding(tgt_vocab_size, embedding_size)\n",
    "        self.position_embedding = nn.Embedding(token_limit, embedding_size)\n",
    "        self.device = device\n",
    "        self.transformer = nn.Transformer(\n",
    "            d_model=embedding_size,\n",
    "            nhead=num_heads,\n",
    "            num_encoder_layers=num_encoder_layers,\n",
    "            num_decoder_layers=num_decoder_layers,\n",
    "            dim_feedforward=dim_feedforward,\n",
    "            dropout=dropout,\n",
    "        )\n",
    "        self.unembedding = nn.Linear(embedding_size, tgt_vocab_size)\n",
    "        self.dropout = nn.Dropout(dropout)\n",
    "        self.src_pad_idx = src_pad_idx\n",
    "\n",
    "    def make_src_mask(self, src):\n",
    "        return src.transpose(0, 1) == self.src_pad_idx\n",
    "\n",
    "    def forward(self, src, tgt):\n",
    "        src_seq_len, n = src.shape\n",
    "        tgt_seq_len = tgt.shape[0]\n",
    "        src_positions = torch.arange(0, src_seq_len) \\\n",
    "            .unsqueeze(1).expand(src_seq_len, n).to(self.device)\n",
    "        tgt_positions = torch.arange(0, tgt_seq_len) \\\n",
    "            .unsqueeze(1).expand(tgt_seq_len, n).to(self.device)\n",
    "        embedded_src = self.dropout(\n",
    "            self.src_word_embedding(src)\n",
    "            + self.position_embedding(src_positions)\n",
    "        )\n",
    "        embedded_tgt = self.dropout(\n",
    "            self.tgt_word_embedding(tgt)\n",
    "            + self.position_embedding(tgt_positions)\n",
    "        )\n",
    "        src_padding_mask = self.make_src_mask(src)\n",
    "        tgt_mask = self.transformer \\\n",
    "            .generate_square_subsequent_mask(tgt_seq_len).to(self.device)\n",
    "        output = self.transformer(\n",
    "            embedded_src,\n",
    "            embedded_tgt,\n",
    "            src_key_padding_mask=src_padding_mask,\n",
    "            tgt_mask=tgt_mask\n",
    "        )\n",
    "        return self.unembedding(output)"
   ]
  },
  {
   "cell_type": "markdown",
   "metadata": {},
   "source": [
    "## Inicjalizacja i trening"
   ]
  },
  {
   "cell_type": "code",
   "execution_count": 15,
   "metadata": {},
   "outputs": [],
   "source": [
    "tgt_pad_idx = bulgarian.vocab.stoi[\"<pad>\"]\n",
    "src_pad_idx = polish.vocab.stoi[\"<pad>\"]\n",
    "tgt_vocab_size = len(bulgarian.vocab)\n",
    "src_vocab_size = len(polish.vocab)\n",
    "\n",
    "model = PL2BG(\n",
    "    num_encoder_layers=NUM_ENC_LAYERS,\n",
    "    num_decoder_layers=NUM_DEC_LAYERS,\n",
    "    dim_feedforward=DIM_FEEDFORWARD,\n",
    "    embedding_size=EMBEDDING_SIZE,\n",
    "    src_vocab_size=src_vocab_size,\n",
    "    tgt_vocab_size=tgt_vocab_size,\n",
    "    src_pad_idx=src_pad_idx,\n",
    "    token_limit=TOKEN_LIMIT,\n",
    "    num_heads=NUM_HEADS,\n",
    "    dropout=DROPOUT,\n",
    "    device=DEVICE,\n",
    ").to(DEVICE)\n",
    "\n",
    "optimizer = optim.Adam(model.parameters(), lr=LEARNING_RATE)\n",
    "criterion = nn.CrossEntropyLoss(ignore_index=tgt_pad_idx)"
   ]
  },
  {
   "cell_type": "code",
   "execution_count": 16,
   "metadata": {},
   "outputs": [],
   "source": [
    "layers = [layer.view(1, -1).squeeze().shape[0] for layer in model.parameters()]\n",
    "\n",
    "model_metadata = {\n",
    "    \"training_hyperparameters\": {\n",
    "        \"learning_rate\": LEARNING_RATE,\n",
    "        \"num_epochs\": NUM_EPOCHS,\n",
    "        \"batch_size\": BATCH_SIZE,\n",
    "    },\n",
    "    \"model_hyperparameters\": {\n",
    "        \"embedding_size\": EMBEDDING_SIZE,\n",
    "        \"num_enc_layers\": NUM_ENC_LAYERS,\n",
    "        \"num_dec_layers\": NUM_DEC_LAYERS,\n",
    "        \"token_limit\": TOKEN_LIMIT,\n",
    "        \"dim_feedforward\": DIM_FEEDFORWARD,\n",
    "        \"num_heads\": NUM_HEADS,\n",
    "        \"dropout\": DROPOUT,\n",
    "        \"device\": str(DEVICE),\n",
    "    },\n",
    "    \"model_architecture\": {\n",
    "        \"num_params\": sum(layers),\n",
    "        \"num_layers\": len(layers),\n",
    "    },\n",
    "    \"other\": {\n",
    "        \"subset_ratio\": SUBSET_RATIO,\n",
    "        \"model_path\": MODEL_PATH,\n",
    "        \"train_dataset_path\": TRAIN_DATASET_PATH,\n",
    "        \"test_dataset_path\": TEST_DATASET_PATH,\n",
    "        \"corpus_path\": CORPUS_PATH,\n",
    "    }\n",
    "}"
   ]
  },
  {
   "cell_type": "code",
   "execution_count": 17,
   "metadata": {},
   "outputs": [
    {
     "name": "stdout",
     "output_type": "stream",
     "text": [
      "Training...\n"
     ]
    },
    {
     "name": "stderr",
     "output_type": "stream",
     "text": [
      "EPOCH [01 / 50]: 100%|██████████| 68/68 [00:36<00:00,  1.87it/s, loss=3.239442\ttrain_bleu=26.5725\ttest_bleu=1.1496]\n",
      "EPOCH [02 / 50]: 100%|██████████| 68/68 [00:23<00:00,  2.92it/s, loss=2.951582\ttrain_bleu=15.6250\ttest_bleu=10.5246]\n",
      "EPOCH [03 / 50]: 100%|██████████| 68/68 [00:16<00:00,  4.22it/s, loss=2.717071\ttrain_bleu=40.4437\ttest_bleu=6.3363] \n",
      "EPOCH [04 / 50]: 100%|██████████| 68/68 [00:16<00:00,  4.20it/s, loss=1.814492\ttrain_bleu=53.6559\ttest_bleu=4.4495] \n",
      "EPOCH [05 / 50]: 100%|██████████| 68/68 [00:17<00:00,  3.96it/s, loss=1.672681\ttrain_bleu=48.9658\ttest_bleu=13.2707]\n",
      "EPOCH [06 / 50]: 100%|██████████| 68/68 [00:16<00:00,  4.01it/s, loss=2.178028\ttrain_bleu=45.5351\ttest_bleu=10.9954]\n",
      "EPOCH [07 / 50]: 100%|██████████| 68/68 [00:17<00:00,  3.90it/s, loss=0.890150\ttrain_bleu=81.2500\ttest_bleu=23.2127]\n",
      "EPOCH [08 / 50]: 100%|██████████| 68/68 [00:18<00:00,  3.70it/s, loss=1.452269\ttrain_bleu=63.0011\ttest_bleu=27.6217]\n",
      "EPOCH [09 / 50]: 100%|██████████| 68/68 [00:17<00:00,  3.83it/s, loss=2.173178\ttrain_bleu=53.1171\ttest_bleu=26.1815]\n",
      "EPOCH [10 / 50]: 100%|██████████| 68/68 [00:18<00:00,  3.76it/s, loss=1.291506\ttrain_bleu=66.6393\ttest_bleu=27.4371]\n",
      "EPOCH [11 / 50]: 100%|██████████| 68/68 [00:18<00:00,  3.69it/s, loss=0.944058\ttrain_bleu=78.4117\ttest_bleu=22.3747]\n",
      "EPOCH [12 / 50]: 100%|██████████| 68/68 [00:18<00:00,  3.74it/s, loss=0.945460\ttrain_bleu=86.3484\ttest_bleu=14.0974]\n",
      "EPOCH [13 / 50]: 100%|██████████| 68/68 [00:18<00:00,  3.69it/s, loss=2.339476\ttrain_bleu=32.9262\ttest_bleu=30.9785]\n",
      "EPOCH [14 / 50]: 100%|██████████| 68/68 [00:18<00:00,  3.60it/s, loss=0.774034\ttrain_bleu=88.7817\ttest_bleu=36.6433]\n",
      "EPOCH [15 / 50]: 100%|██████████| 68/68 [00:17<00:00,  3.79it/s, loss=1.306884\ttrain_bleu=58.9521\ttest_bleu=20.8741]\n",
      "EPOCH [16 / 50]: 100%|██████████| 68/68 [00:17<00:00,  3.80it/s, loss=0.792882\ttrain_bleu=67.8731\ttest_bleu=44.1112]\n",
      "EPOCH [17 / 50]: 100%|██████████| 68/68 [00:18<00:00,  3.71it/s, loss=1.190752\ttrain_bleu=63.1117\ttest_bleu=26.1822]\n",
      "EPOCH [18 / 50]: 100%|██████████| 68/68 [00:18<00:00,  3.71it/s, loss=1.874655\ttrain_bleu=44.5452\ttest_bleu=25.4325]\n",
      "EPOCH [19 / 50]: 100%|██████████| 68/68 [00:18<00:00,  3.78it/s, loss=1.725865\ttrain_bleu=48.6340\ttest_bleu=34.7927]\n",
      "EPOCH [20 / 50]: 100%|██████████| 68/68 [00:18<00:00,  3.69it/s, loss=1.965565\ttrain_bleu=27.0602\ttest_bleu=33.3347]\n",
      "EPOCH [21 / 50]: 100%|██████████| 68/68 [00:18<00:00,  3.75it/s, loss=0.583916\ttrain_bleu=84.3750\ttest_bleu=42.3087]\n",
      "EPOCH [22 / 50]: 100%|██████████| 68/68 [00:18<00:00,  3.75it/s, loss=0.575822\ttrain_bleu=84.4934\ttest_bleu=28.8672]\n",
      "EPOCH [23 / 50]: 100%|██████████| 68/68 [00:18<00:00,  3.67it/s, loss=0.241144\ttrain_bleu=98.0246\ttest_bleu=30.9699]\n",
      "EPOCH [24 / 50]: 100%|██████████| 68/68 [00:17<00:00,  3.81it/s, loss=1.609527\ttrain_bleu=47.8094\ttest_bleu=31.3143]\n",
      "EPOCH [25 / 50]: 100%|██████████| 68/68 [00:18<00:00,  3.73it/s, loss=0.587306\ttrain_bleu=86.6742\ttest_bleu=31.9371] \n",
      "EPOCH [26 / 50]: 100%|██████████| 68/68 [00:18<00:00,  3.68it/s, loss=1.498003\ttrain_bleu=40.8559\ttest_bleu=35.9015]\n",
      "EPOCH [27 / 50]: 100%|██████████| 68/68 [00:21<00:00,  3.20it/s, loss=0.966925\ttrain_bleu=78.2929\ttest_bleu=32.8371] \n",
      "EPOCH [28 / 50]: 100%|██████████| 68/68 [00:18<00:00,  3.73it/s, loss=0.966135\ttrain_bleu=70.2909\ttest_bleu=23.3960] \n",
      "EPOCH [29 / 50]: 100%|██████████| 68/68 [00:18<00:00,  3.71it/s, loss=0.616371\ttrain_bleu=76.9165\ttest_bleu=39.2796]\n",
      "EPOCH [30 / 50]: 100%|██████████| 68/68 [00:18<00:00,  3.70it/s, loss=0.725376\ttrain_bleu=80.5554\ttest_bleu=30.6393] \n",
      "EPOCH [31 / 50]: 100%|██████████| 68/68 [00:18<00:00,  3.72it/s, loss=0.562543\ttrain_bleu=85.9475\ttest_bleu=30.8101] \n",
      "EPOCH [32 / 50]: 100%|██████████| 68/68 [00:18<00:00,  3.67it/s, loss=0.407100\ttrain_bleu=90.2762\ttest_bleu=31.0813]\n",
      "EPOCH [33 / 50]: 100%|██████████| 68/68 [00:18<00:00,  3.64it/s, loss=0.938489\ttrain_bleu=68.4758\ttest_bleu=30.7299]\n",
      "EPOCH [34 / 50]: 100%|██████████| 68/68 [00:18<00:00,  3.72it/s, loss=0.973677\ttrain_bleu=59.3927\ttest_bleu=30.8371]\n",
      "EPOCH [35 / 50]: 100%|██████████| 68/68 [00:20<00:00,  3.40it/s, loss=0.424329\ttrain_bleu=89.2480\ttest_bleu=30.9722] \n",
      "EPOCH [36 / 50]: 100%|██████████| 68/68 [00:21<00:00,  3.22it/s, loss=0.318647\ttrain_bleu=94.1729\ttest_bleu=29.9012] \n",
      "EPOCH [37 / 50]: 100%|██████████| 68/68 [00:19<00:00,  3.47it/s, loss=0.315034\ttrain_bleu=88.3006\ttest_bleu=32.6448] \n",
      "EPOCH [38 / 50]: 100%|██████████| 68/68 [00:19<00:00,  3.45it/s, loss=0.405607\ttrain_bleu=88.6712\ttest_bleu=31.3868] \n",
      "EPOCH [39 / 50]: 100%|██████████| 68/68 [00:18<00:00,  3.78it/s, loss=0.360664\ttrain_bleu=85.9475\ttest_bleu=38.7178]\n",
      "EPOCH [40 / 50]: 100%|██████████| 68/68 [00:18<00:00,  3.77it/s, loss=0.253098\ttrain_bleu=94.8996\ttest_bleu=34.0864] \n",
      "EPOCH [41 / 50]: 100%|██████████| 68/68 [00:19<00:00,  3.46it/s, loss=0.693245\ttrain_bleu=78.7893\ttest_bleu=44.0223] \n",
      "EPOCH [42 / 50]: 100%|██████████| 68/68 [00:19<00:00,  3.41it/s, loss=0.355502\ttrain_bleu=89.8768\ttest_bleu=45.7710]\n",
      "EPOCH [43 / 50]: 100%|██████████| 68/68 [00:20<00:00,  3.25it/s, loss=0.566020\ttrain_bleu=79.3534\ttest_bleu=48.1314]\n",
      "EPOCH [44 / 50]: 100%|██████████| 68/68 [00:20<00:00,  3.26it/s, loss=0.264218\ttrain_bleu=92.1238\ttest_bleu=41.5276]\n",
      "EPOCH [45 / 50]: 100%|██████████| 68/68 [00:18<00:00,  3.60it/s, loss=0.473130\ttrain_bleu=83.9248\ttest_bleu=48.8927]\n",
      "EPOCH [46 / 50]: 100%|██████████| 68/68 [00:20<00:00,  3.25it/s, loss=0.457769\ttrain_bleu=84.6879\ttest_bleu=34.7988] \n",
      "EPOCH [47 / 50]: 100%|██████████| 68/68 [00:19<00:00,  3.40it/s, loss=0.273742\ttrain_bleu=93.4086\ttest_bleu=34.3864] \n",
      "EPOCH [48 / 50]: 100%|██████████| 68/68 [00:19<00:00,  3.45it/s, loss=0.162476\ttrain_bleu=98.6584\ttest_bleu=36.2212] \n",
      "EPOCH [49 / 50]: 100%|██████████| 68/68 [00:20<00:00,  3.26it/s, loss=0.226189\ttrain_bleu=93.4591\ttest_bleu=27.0830]\n",
      "EPOCH [50 / 50]: 100%|██████████| 68/68 [00:20<00:00,  3.28it/s, loss=0.288175\ttrain_bleu=94.4107\ttest_bleu=41.7936]"
     ]
    },
    {
     "name": "stdout",
     "output_type": "stream",
     "text": [
      "Saving model...\n"
     ]
    },
    {
     "name": "stderr",
     "output_type": "stream",
     "text": [
      "\n"
     ]
    }
   ],
   "source": [
    "if ENABLE_TRAINING:\n",
    "    print(\"Training...\")\n",
    "\n",
    "    metrics = {\n",
    "        \"loss\": [],\n",
    "        \"train_bleu\": [],\n",
    "        \"test_bleu\": [],\n",
    "    }\n",
    "\n",
    "    for epoch in range(NUM_EPOCHS):\n",
    "\n",
    "        model.train()\n",
    "        mean_train_bleu = 0\n",
    "        mean_test_bleu = 0\n",
    "        mean_loss = 0\n",
    "\n",
    "        epoch_num = f\"[{epoch + 1:0{len(str(NUM_EPOCHS))}d} / {NUM_EPOCHS}]\"\n",
    "        iterator = tqdm(train_iterator, desc=f\"EPOCH {epoch_num}\")\n",
    "        for idx, batch in enumerate(iterator):\n",
    "            src = batch.src.to(DEVICE)\n",
    "            tgt = batch.tgt.to(DEVICE)\n",
    "\n",
    "            out = model(src, tgt[:-1])\n",
    "            out = out.reshape(-1, out.shape[2])\n",
    "            _tgt = tgt[1:].reshape(-1)\n",
    "            optimizer.zero_grad()\n",
    "\n",
    "            loss = criterion(out, _tgt)\n",
    "\n",
    "            current_loss = loss.item()\n",
    "            current_train_bleu = get_batch_bleu(model, src, tgt, bulgarian)\n",
    "            current_test_bleu = random_eval(\n",
    "                model=model,\n",
    "                n_examples=32,\n",
    "                dataset=test_dataset,\n",
    "                src_lang=polish,\n",
    "                tgt_lang=bulgarian,\n",
    "                device=DEVICE,\n",
    "                token_limit=TOKEN_LIMIT,\n",
    "            )[\"score\"]\n",
    "\n",
    "            mean_loss += current_loss / len(train_iterator)\n",
    "            mean_train_bleu += current_train_bleu / len(train_iterator)\n",
    "            mean_test_bleu += current_test_bleu / len(train_iterator)\n",
    "\n",
    "            if idx == len(train_iterator):\n",
    "                iterator.set_postfix_str(\n",
    "                    f\"loss={mean_loss:.4f}\\t\"\n",
    "                    f\"train_bleu={mean_train_bleu:.2f}\\t\"\n",
    "                    f\"test_bleu={mean_test_bleu:.2f}\"\n",
    "                )\n",
    "            else:\n",
    "                iterator.set_postfix_str(\n",
    "                    f\"loss={current_loss:.6f}\\t\"\n",
    "                    f\"train_bleu={current_train_bleu:.4f}\\t\"\n",
    "                    f\"test_bleu={current_test_bleu:.4f}\"\n",
    "                )\n",
    "\n",
    "            loss.backward()\n",
    "            torch.nn.utils.clip_grad_norm_(model.parameters(), max_norm=1)\n",
    "            optimizer.step()\n",
    "\n",
    "        metrics[\"loss\"].append(mean_loss)\n",
    "        metrics[\"train_bleu\"].append(mean_train_bleu)\n",
    "        metrics[\"test_bleu\"].append(mean_test_bleu)\n",
    "\n",
    "    print(\"Saving model...\")\n",
    "    json.dump(model_metadata, open(MODEL_PATH + \".json\", \"w\"))\n",
    "    torch.save(model.state_dict(), MODEL_PATH)\n",
    "\n",
    "else:\n",
    "    print(\"Loading pretrained model...\")\n",
    "    print(model.load_state_dict(torch.load(MODEL_PATH)))"
   ]
  },
  {
   "cell_type": "code",
   "execution_count": 22,
   "metadata": {},
   "outputs": [],
   "source": [
    "json.dump(model_metadata, open(MODEL_PATH + \".json\", \"w\"))\n",
    "torch.save(model.state_dict(), MODEL_PATH)"
   ]
  },
  {
   "cell_type": "code",
   "execution_count": 23,
   "metadata": {},
   "outputs": [
    {
     "data": {
      "image/png": "[encoded data removed]",
      "text/plain": [
       "<Figure size 1500x500 with 2 Axes>"
      ]
     },
     "metadata": {},
     "output_type": "display_data"
    }
   ],
   "source": [
    "if ENABLE_TRAINING:\n",
    "    fig, ax = plt.subplots(1, 2, figsize=(15, 5))\n",
    "    ax[0].plot(metrics[\"train_bleu\"], c=\"orange\")\n",
    "    ax[0].plot(metrics[\"test_bleu\"], c=\"green\")\n",
    "    ax[0].legend([\"Train BLEU\", \"Test BLEU\"])\n",
    "    ax[0].set_ylabel(\"Mean BLEU score\")\n",
    "    ax[0].set_xlabel(\"Epoch\")\n",
    "    ax[0].set_title(\"BLEU score over epochs\")\n",
    "    ax[1].plot(metrics[\"loss\"], c=\"orange\")\n",
    "    ax[1].set_ylabel(\"Mean loss\")\n",
    "    ax[1].set_xlabel(\"Epoch\")\n",
    "    ax[1].set_title(\"Loss over epochs\")\n",
    "    plt.savefig(f\"{MODEL_PATH}.png\", dpi=300)\n",
    "    plt.show()"
   ]
  },
  {
   "cell_type": "markdown",
   "metadata": {},
   "source": [
    "## Ewaluacja"
   ]
  },
  {
   "cell_type": "code",
   "execution_count": 24,
   "metadata": {},
   "outputs": [],
   "source": [
    "evaluation = random_eval(\n",
    "    model=model,\n",
    "    n_examples=32,\n",
    "    dataset=test_dataset,\n",
    "    src_lang=polish,\n",
    "    tgt_lang=bulgarian,\n",
    "    device=DEVICE,\n",
    "    token_limit=TOKEN_LIMIT,\n",
    ")\n",
    "for example in evaluation[\"examples\"]:\n",
    "    print(example, file=open(f\"{MODEL_PATH}.txt\", \"a\"))\n",
    "print(f\"BLEU: {evaluation[\"score\"]}\", file=open(f\"{MODEL_PATH}.txt\", \"a\"))"
   ]
  }
 ],
 "metadata": {
  "kernelspec": {
   "display_name": "nlp_proj",
   "language": "python",
   "name": "python3"
  },
  "language_info": {
   "codemirror_mode": {
    "name": "ipython",
    "version": 3
   },
   "file_extension": ".py",
   "mimetype": "text/x-python",
   "name": "python",
   "nbconvert_exporter": "python",
   "pygments_lexer": "ipython3",
   "version": "3.12.3"
  }
 },
 "nbformat": 4,
 "nbformat_minor": 2
}
