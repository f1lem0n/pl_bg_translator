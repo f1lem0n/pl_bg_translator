{
 "cells": [
  {
   "cell_type": "markdown",
   "metadata": {},
   "source": [
    "# Tłumacz polsko-bułgarski oparty o architekturę transformera"
   ]
  },
  {
   "cell_type": "markdown",
   "metadata": {},
   "source": [
    "## Biblioteki i ustawienia"
   ]
  },
  {
   "cell_type": "code",
   "execution_count": 1,
   "metadata": {},
   "outputs": [],
   "source": [
    "import json\n",
    "import warnings\n",
    "\n",
    "from torchtext.data import Field, BucketIterator\n",
    "from tqdm import tqdm\n",
    "import matplotlib.pyplot as plt\n",
    "import spacy\n",
    "import torch\n",
    "import torch.nn as nn\n",
    "import torch.nn.functional as F\n",
    "import torch.optim as optim\n",
    "\n",
    "from utils import get_dataset_splits, random_eval, get_batch_bleu, print_dataset_info, get_subset"
   ]
  },
  {
   "cell_type": "code",
   "execution_count": 2,
   "metadata": {},
   "outputs": [],
   "source": [
    "warnings.filterwarnings(\"ignore\")"
   ]
  },
  {
   "cell_type": "code",
   "execution_count": 3,
   "metadata": {},
   "outputs": [
    {
     "name": "stdout",
     "output_type": "stream",
     "text": [
      "Python 3.12.3\n"
     ]
    }
   ],
   "source": [
    "!python --version"
   ]
  },
  {
   "cell_type": "code",
   "execution_count": 4,
   "metadata": {},
   "outputs": [
    {
     "data": {
      "text/plain": [
       "device(type='cpu')"
      ]
     },
     "execution_count": 4,
     "metadata": {},
     "output_type": "execute_result"
    }
   ],
   "source": [
    "DEVICE = torch.device(\"cuda\" if torch.cuda.is_available() else \"cpu\")\n",
    "DEVICE"
   ]
  },
  {
   "cell_type": "code",
   "execution_count": 5,
   "metadata": {},
   "outputs": [],
   "source": [
    "# training hyperparameters\n",
    "LEARNING_RATE = 1e-4\n",
    "NUM_EPOCHS = 50\n",
    "BATCH_SIZE = 32\n",
    "\n",
    "# model hyperparameters\n",
    "EMBEDDING_SIZE = 128\n",
    "NUM_ENC_LAYERS = 8\n",
    "NUM_DEC_LAYERS = 8\n",
    "TOKEN_LIMIT = 32\n",
    "DIM_FEEDFORWARD = 512\n",
    "NUM_HEADS = 16\n",
    "DROPOUT = 0.1\n",
    "\n",
    "# other\n",
    "ENABLE_TRAINING = True\n",
    "SUBSET_RATIO = 0.05\n",
    "CORPUS_PATH = \"./raw_data/\"\n",
    "TRAIN_DATASET_PATH = f\"./datasets/train_dataset_{TOKEN_LIMIT}.pkl\"\n",
    "TEST_DATASET_PATH = f\"./datasets/test_dataset_{TOKEN_LIMIT}.pkl\"\n",
    "MODEL_PATH = f\"./serialized_models/model_v3\""
   ]
  },
  {
   "cell_type": "markdown",
   "metadata": {},
   "source": [
    "## Tokenizatory"
   ]
  },
  {
   "cell_type": "markdown",
   "metadata": {},
   "source": [
    "Zaprojektowałem dwa tokenizatory, osobno dla każdego języka. Są one oparte o modele `pl_core_news_lg` i `uk_core_news_lg` z biblioteki `spacy`. Jak widać dla języka bułgarskiego użyty został model przeznaczony dla języka ukraińskiego. Jest to spowodowane brakiem modelu dla języka bułgarskiego w bibliotece `spacy` oraz wysokim podobieństwem tych języków. Zakładam, że nie powinno to negatywnie wpłynąć na jakość tłumaczenia."
   ]
  },
  {
   "cell_type": "code",
   "execution_count": 6,
   "metadata": {},
   "outputs": [],
   "source": [
    "nlp_pl = spacy.load(\"pl_core_news_lg\")\n",
    "nlp_bg = spacy.load(\"uk_core_news_lg\")"
   ]
  },
  {
   "cell_type": "code",
   "execution_count": 7,
   "metadata": {},
   "outputs": [],
   "source": [
    "def tokenize_pl(text):\n",
    "    return [token.text for token in nlp_pl.tokenizer(text)]\n",
    "\n",
    "def tokenize_bg(text):\n",
    "    return [token.text for token in nlp_bg.tokenizer(text)]"
   ]
  },
  {
   "cell_type": "code",
   "execution_count": 8,
   "metadata": {},
   "outputs": [],
   "source": [
    "polish = Field(\n",
    "    tokenize=tokenize_pl, lower=True,\n",
    "    init_token=\"<bos>\", eos_token=\"<eos>\"\n",
    ")\n",
    "\n",
    "bulgarian = Field(\n",
    "    tokenize=tokenize_bg, lower=True,\n",
    "    init_token=\"<bos>\", eos_token=\"<eos>\"\n",
    ")"
   ]
  },
  {
   "cell_type": "markdown",
   "metadata": {},
   "source": [
    "## Wczytanie danych"
   ]
  },
  {
   "cell_type": "code",
   "execution_count": 9,
   "metadata": {},
   "outputs": [
    {
     "name": "stdout",
     "output_type": "stream",
     "text": [
      "Loading dataset from: ./datasets/train_dataset_32.pkl\n",
      "Loading dataset from: ./datasets/test_dataset_32.pkl\n",
      "Done.\n",
      "\n",
      "<|TRAIN SET|>\n",
      "number of examples: 217228\n",
      "number of source tokens: 755338\n",
      "number of target tokens: 700961\n",
      "\n",
      "\n",
      "<|TEST SET|>\n",
      "number of examples: 24080\n",
      "number of source tokens: 83504\n",
      "number of target tokens: 77626\n",
      "\n"
     ]
    }
   ],
   "source": [
    "fields = [(\"src\", polish), (\"tgt\", bulgarian)]\n",
    "train_dataset, test_dataset = get_dataset_splits(\n",
    "    train_dataset_path=TRAIN_DATASET_PATH,\n",
    "    test_dataset_path=TEST_DATASET_PATH,\n",
    "    corpus_path=CORPUS_PATH,\n",
    "    max_len=TOKEN_LIMIT,\n",
    "    fields=fields,\n",
    ")"
   ]
  },
  {
   "cell_type": "code",
   "execution_count": 10,
   "metadata": {},
   "outputs": [
    {
     "name": "stdout",
     "output_type": "stream",
     "text": [
      "\n",
      "<|TRAIN SET|>\n",
      "number of examples: 10861\n",
      "number of source tokens: 37635\n",
      "number of target tokens: 35038\n",
      "\n",
      "\n",
      "<|TEST SET|>\n",
      "number of examples: 1204\n",
      "number of source tokens: 4273\n",
      "number of target tokens: 3942\n",
      "\n"
     ]
    }
   ],
   "source": [
    "train_dataset = get_subset(train_dataset, SUBSET_RATIO)\n",
    "test_dataset = get_subset(test_dataset, SUBSET_RATIO)\n",
    "print_dataset_info(train_dataset, \"train\")\n",
    "print_dataset_info(test_dataset, \"test\")"
   ]
  },
  {
   "cell_type": "code",
   "execution_count": 11,
   "metadata": {},
   "outputs": [],
   "source": [
    "polish.build_vocab(train_dataset, max_size=10000, min_freq=2)\n",
    "bulgarian.build_vocab(train_dataset, max_size=10000, min_freq=2)"
   ]
  },
  {
   "cell_type": "code",
   "execution_count": 12,
   "metadata": {},
   "outputs": [],
   "source": [
    "train_iterator, test_iterator = BucketIterator.splits(\n",
    "    (train_dataset, test_dataset),\n",
    "    batch_size=BATCH_SIZE,\n",
    "    sort_within_batch=True,\n",
    "    sort_key = lambda x: len(x.src),\n",
    "    device=DEVICE\n",
    ")"
   ]
  },
  {
   "cell_type": "markdown",
   "metadata": {},
   "source": [
    "## Architektura modelu"
   ]
  },
  {
   "cell_type": "code",
   "execution_count": 13,
   "metadata": {},
   "outputs": [],
   "source": [
    "class PL2BG(nn.Module):\n",
    "    def __init__(\n",
    "        self,\n",
    "        embedding_size,\n",
    "        src_vocab_size,\n",
    "        tgt_vocab_size,\n",
    "        src_pad_idx,\n",
    "        num_heads,\n",
    "        num_encoder_layers,\n",
    "        num_decoder_layers,\n",
    "        dim_feedforward,\n",
    "        dropout,\n",
    "        token_limit,\n",
    "        device,\n",
    "    ):\n",
    "        super(PL2BG, self).__init__()\n",
    "        self.src_word_embedding = nn.Embedding(src_vocab_size, embedding_size)\n",
    "        self.tgt_word_embedding = nn.Embedding(tgt_vocab_size, embedding_size)\n",
    "        self.position_embedding = nn.Embedding(token_limit, embedding_size)\n",
    "        self.device = device\n",
    "        self.transformer = nn.Transformer(\n",
    "            d_model=embedding_size,\n",
    "            nhead=num_heads,\n",
    "            num_encoder_layers=num_encoder_layers,\n",
    "            num_decoder_layers=num_decoder_layers,\n",
    "            dim_feedforward=dim_feedforward,\n",
    "            dropout=dropout,\n",
    "        )\n",
    "        self.fc_1 = nn.Linear(embedding_size, 512)\n",
    "        self.fc_2 = nn.Linear(512, 512)\n",
    "        self.fc_3 = nn.Linear(512, 1024)\n",
    "        self.fc_4 = nn.Linear(1024, embedding_size)\n",
    "        self.unembedding = nn.Linear(embedding_size, tgt_vocab_size)\n",
    "        self.dropout = nn.Dropout(dropout)\n",
    "        self.src_pad_idx = src_pad_idx\n",
    "\n",
    "    def make_src_mask(self, src):\n",
    "        return src.transpose(0, 1) == self.src_pad_idx\n",
    "\n",
    "    def forward(self, src, tgt):\n",
    "        src_seq_len, n = src.shape\n",
    "        tgt_seq_len = tgt.shape[0]\n",
    "        src_positions = torch.arange(0, src_seq_len) \\\n",
    "            .unsqueeze(1).expand(src_seq_len, n).to(self.device)\n",
    "        tgt_positions = torch.arange(0, tgt_seq_len) \\\n",
    "            .unsqueeze(1).expand(tgt_seq_len, n).to(self.device)\n",
    "        embedded_src = self.dropout(\n",
    "            self.src_word_embedding(src)\n",
    "            + self.position_embedding(src_positions)\n",
    "        )\n",
    "        embedded_tgt = self.dropout(\n",
    "            self.tgt_word_embedding(tgt)\n",
    "            + self.position_embedding(tgt_positions)\n",
    "        )\n",
    "        src_padding_mask = self.make_src_mask(src)\n",
    "        tgt_mask = self.transformer \\\n",
    "            .generate_square_subsequent_mask(tgt_seq_len).to(self.device)\n",
    "        output = self.transformer(\n",
    "            embedded_src,\n",
    "            embedded_tgt,\n",
    "            src_key_padding_mask=src_padding_mask,\n",
    "            tgt_mask=tgt_mask\n",
    "        )\n",
    "        output = F.relu(self.dropout(self.fc_1(output)))\n",
    "        output = F.relu(self.dropout(self.fc_2(output)))\n",
    "        output = F.relu(self.dropout(self.fc_3(output)))\n",
    "        output = F.relu(self.dropout(self.fc_4(output)))\n",
    "        return self.unembedding(output)"
   ]
  },
  {
   "cell_type": "markdown",
   "metadata": {},
   "source": [
    "## Inicjalizacja i trening"
   ]
  },
  {
   "cell_type": "code",
   "execution_count": 14,
   "metadata": {},
   "outputs": [],
   "source": [
    "tgt_pad_idx = bulgarian.vocab.stoi[\"<pad>\"]\n",
    "src_pad_idx = polish.vocab.stoi[\"<pad>\"]\n",
    "tgt_vocab_size = len(bulgarian.vocab)\n",
    "src_vocab_size = len(polish.vocab)\n",
    "\n",
    "model = PL2BG(\n",
    "    num_encoder_layers=NUM_ENC_LAYERS,\n",
    "    num_decoder_layers=NUM_DEC_LAYERS,\n",
    "    dim_feedforward=DIM_FEEDFORWARD,\n",
    "    embedding_size=EMBEDDING_SIZE,\n",
    "    src_vocab_size=src_vocab_size,\n",
    "    tgt_vocab_size=tgt_vocab_size,\n",
    "    src_pad_idx=src_pad_idx,\n",
    "    token_limit=TOKEN_LIMIT,\n",
    "    num_heads=NUM_HEADS,\n",
    "    dropout=DROPOUT,\n",
    "    device=DEVICE,\n",
    ").to(DEVICE)\n",
    "\n",
    "optimizer = optim.Adam(model.parameters(), lr=LEARNING_RATE)\n",
    "criterion = nn.CrossEntropyLoss(ignore_index=tgt_pad_idx)"
   ]
  },
  {
   "cell_type": "code",
   "execution_count": 15,
   "metadata": {},
   "outputs": [],
   "source": [
    "layers = [layer.view(1, -1).squeeze().shape[0] for layer in model.parameters()]\n",
    "\n",
    "model_metadata = {\n",
    "    \"training_hyperparameters\": {\n",
    "        \"learning_rate\": LEARNING_RATE,\n",
    "        \"num_epochs\": NUM_EPOCHS,\n",
    "        \"batch_size\": BATCH_SIZE,\n",
    "    },\n",
    "    \"model_hyperparameters\": {\n",
    "        \"embedding_size\": EMBEDDING_SIZE,\n",
    "        \"num_enc_layers\": NUM_ENC_LAYERS,\n",
    "        \"num_dec_layers\": NUM_DEC_LAYERS,\n",
    "        \"dim_feedforward\": DIM_FEEDFORWARD,\n",
    "        \"token_limit\": TOKEN_LIMIT,\n",
    "        \"num_heads\": NUM_HEADS,\n",
    "        \"dropout\": DROPOUT,\n",
    "        \"device\": str(DEVICE),\n",
    "    },\n",
    "    \"model_architecture\": {\n",
    "        \"num_params\": sum(layers),\n",
    "        \"num_layers\": len(layers),\n",
    "    },\n",
    "    \"other\": {\n",
    "        \"subset_ratio\": SUBSET_RATIO,\n",
    "        \"model_path\": MODEL_PATH,\n",
    "        \"train_dataset_path\": TRAIN_DATASET_PATH,\n",
    "        \"test_dataset_path\": TEST_DATASET_PATH,\n",
    "        \"corpus_path\": CORPUS_PATH,\n",
    "    }\n",
    "}"
   ]
  },
  {
   "cell_type": "code",
   "execution_count": 17,
   "metadata": {},
   "outputs": [
    {
     "name": "stdout",
     "output_type": "stream",
     "text": [
      "Training...\n"
     ]
    },
    {
     "name": "stderr",
     "output_type": "stream",
     "text": [
      "EPOCH [01 / 50]: 100%|██████████| 340/340 [03:00<00:00,  1.89it/s, loss=4.783747\ttrain_bleu=19.0721\ttest_bleu=0.0000]\n",
      "EPOCH [02 / 50]: 100%|██████████| 340/340 [04:01<00:00,  1.41it/s, loss=4.691220\ttrain_bleu=16.3461\ttest_bleu=12.5000]\n",
      "EPOCH [03 / 50]: 100%|██████████| 340/340 [05:16<00:00,  1.07it/s, loss=3.259279\ttrain_bleu=24.9667\ttest_bleu=20.7841]\n",
      "EPOCH [04 / 50]: 100%|██████████| 340/340 [06:11<00:00,  1.09s/it, loss=4.215424\ttrain_bleu=14.0160\ttest_bleu=27.3812]\n",
      "EPOCH [05 / 50]: 100%|██████████| 340/340 [05:51<00:00,  1.03s/it, loss=2.091084\ttrain_bleu=39.7392\ttest_bleu=17.0904]\n",
      "EPOCH [06 / 50]: 100%|██████████| 340/340 [05:25<00:00,  1.04it/s, loss=3.818819\ttrain_bleu=19.6245\ttest_bleu=45.1787]\n",
      "EPOCH [07 / 50]: 100%|██████████| 340/340 [05:11<00:00,  1.09it/s, loss=2.609610\ttrain_bleu=45.4479\ttest_bleu=26.5926]\n",
      "EPOCH [08 / 50]: 100%|██████████| 340/340 [05:17<00:00,  1.07it/s, loss=1.619935\ttrain_bleu=52.4976\ttest_bleu=37.5785]\n",
      "EPOCH [09 / 50]: 100%|██████████| 340/340 [05:28<00:00,  1.04it/s, loss=3.098684\ttrain_bleu=16.6526\ttest_bleu=37.2558]\n",
      "EPOCH [10 / 50]: 100%|██████████| 340/340 [05:13<00:00,  1.09it/s, loss=3.462913\ttrain_bleu=29.4168\ttest_bleu=49.0096]\n",
      "EPOCH [11 / 50]: 100%|██████████| 340/340 [04:45<00:00,  1.19it/s, loss=1.466907\ttrain_bleu=65.1701\ttest_bleu=26.8823]\n",
      "EPOCH [12 / 50]: 100%|██████████| 340/340 [04:49<00:00,  1.17it/s, loss=1.523578\ttrain_bleu=59.0624\ttest_bleu=29.7266]\n",
      "EPOCH [13 / 50]: 100%|██████████| 340/340 [04:45<00:00,  1.19it/s, loss=1.490764\ttrain_bleu=61.0359\ttest_bleu=25.3540]\n",
      "EPOCH [14 / 50]: 100%|██████████| 340/340 [04:46<00:00,  1.19it/s, loss=1.243860\ttrain_bleu=72.9842\ttest_bleu=47.8174]\n",
      "EPOCH [15 / 50]: 100%|██████████| 340/340 [04:45<00:00,  1.19it/s, loss=0.690396\ttrain_bleu=78.3302\ttest_bleu=31.3700]\n",
      "EPOCH [16 / 50]: 100%|██████████| 340/340 [04:45<00:00,  1.19it/s, loss=1.417640\ttrain_bleu=56.3714\ttest_bleu=36.5836]\n",
      "EPOCH [17 / 50]: 100%|██████████| 340/340 [04:44<00:00,  1.19it/s, loss=1.007938\ttrain_bleu=68.7500\ttest_bleu=36.6049]\n",
      "EPOCH [18 / 50]: 100%|██████████| 340/340 [04:44<00:00,  1.19it/s, loss=1.942695\ttrain_bleu=27.7825\ttest_bleu=29.2124]\n",
      "EPOCH [19 / 50]: 100%|██████████| 340/340 [04:48<00:00,  1.18it/s, loss=1.046522\ttrain_bleu=68.6164\ttest_bleu=39.8246]\n",
      "EPOCH [20 / 50]: 100%|██████████| 340/340 [04:46<00:00,  1.19it/s, loss=0.924893\ttrain_bleu=77.5860\ttest_bleu=47.0404]\n",
      "EPOCH [21 / 50]: 100%|██████████| 340/340 [04:51<00:00,  1.17it/s, loss=1.434916\ttrain_bleu=48.1875\ttest_bleu=55.0194]\n",
      "EPOCH [22 / 50]: 100%|██████████| 340/340 [04:48<00:00,  1.18it/s, loss=1.653855\ttrain_bleu=26.1692\ttest_bleu=49.2809]\n",
      "EPOCH [23 / 50]: 100%|██████████| 340/340 [04:49<00:00,  1.18it/s, loss=0.373079\ttrain_bleu=71.8991\ttest_bleu=31.0150]\n",
      "EPOCH [24 / 50]: 100%|██████████| 340/340 [04:51<00:00,  1.17it/s, loss=0.943853\ttrain_bleu=30.4919\ttest_bleu=44.9551]\n",
      "EPOCH [25 / 50]: 100%|██████████| 340/340 [04:51<00:00,  1.17it/s, loss=0.582896\ttrain_bleu=66.3925\ttest_bleu=52.2704]\n",
      "EPOCH [26 / 50]: 100%|██████████| 340/340 [04:50<00:00,  1.17it/s, loss=0.803698\ttrain_bleu=63.7918\ttest_bleu=55.3284]\n",
      "EPOCH [27 / 50]: 100%|██████████| 340/340 [04:54<00:00,  1.15it/s, loss=0.793914\ttrain_bleu=67.6454\ttest_bleu=41.8504]\n",
      "EPOCH [28 / 50]: 100%|██████████| 340/340 [04:50<00:00,  1.17it/s, loss=0.502682\ttrain_bleu=82.3996\ttest_bleu=60.5229]\n",
      "EPOCH [29 / 50]: 100%|██████████| 340/340 [04:51<00:00,  1.17it/s, loss=0.941663\ttrain_bleu=54.7161\ttest_bleu=37.5858] \n",
      "EPOCH [30 / 50]: 100%|██████████| 340/340 [04:51<00:00,  1.16it/s, loss=1.184362\ttrain_bleu=46.3796\ttest_bleu=49.7780] \n",
      "EPOCH [31 / 50]: 100%|██████████| 340/340 [04:53<00:00,  1.16it/s, loss=0.431991\ttrain_bleu=83.3842\ttest_bleu=49.1408]\n",
      "EPOCH [32 / 50]: 100%|██████████| 340/340 [04:54<00:00,  1.16it/s, loss=0.421074\ttrain_bleu=81.4623\ttest_bleu=43.4694]\n",
      "EPOCH [33 / 50]: 100%|██████████| 340/340 [04:50<00:00,  1.17it/s, loss=0.369121\ttrain_bleu=90.5340\ttest_bleu=31.8209] \n",
      "EPOCH [34 / 50]: 100%|██████████| 340/340 [04:51<00:00,  1.17it/s, loss=0.619773\ttrain_bleu=78.4219\ttest_bleu=31.0960] \n",
      "EPOCH [35 / 50]: 100%|██████████| 340/340 [04:53<00:00,  1.16it/s, loss=0.406057\ttrain_bleu=85.3192\ttest_bleu=38.6718]\n",
      "EPOCH [36 / 50]: 100%|██████████| 340/340 [04:52<00:00,  1.16it/s, loss=0.497652\ttrain_bleu=84.4628\ttest_bleu=39.3415]\n",
      "EPOCH [37 / 50]: 100%|██████████| 340/340 [04:51<00:00,  1.17it/s, loss=0.700633\ttrain_bleu=61.9412\ttest_bleu=52.3306]\n",
      "EPOCH [38 / 50]: 100%|██████████| 340/340 [04:51<00:00,  1.17it/s, loss=0.329417\ttrain_bleu=82.5218\ttest_bleu=42.2826]\n",
      "EPOCH [39 / 50]: 100%|██████████| 340/340 [04:53<00:00,  1.16it/s, loss=0.179926\ttrain_bleu=93.6889\ttest_bleu=47.5314] \n",
      "EPOCH [40 / 50]: 100%|██████████| 340/340 [04:50<00:00,  1.17it/s, loss=0.530898\ttrain_bleu=55.0151\ttest_bleu=50.6293]\n",
      "EPOCH [41 / 50]: 100%|██████████| 340/340 [04:52<00:00,  1.16it/s, loss=0.261802\ttrain_bleu=79.0397\ttest_bleu=49.5596] \n",
      "EPOCH [42 / 50]: 100%|██████████| 340/340 [04:54<00:00,  1.16it/s, loss=0.240029\ttrain_bleu=90.9759\ttest_bleu=44.1880] \n",
      "EPOCH [43 / 50]: 100%|██████████| 340/340 [04:52<00:00,  1.16it/s, loss=0.636346\ttrain_bleu=79.7074\ttest_bleu=53.6854]\n",
      "EPOCH [44 / 50]: 100%|██████████| 340/340 [04:53<00:00,  1.16it/s, loss=0.409833\ttrain_bleu=76.6959\ttest_bleu=44.3589]\n",
      "EPOCH [45 / 50]: 100%|██████████| 340/340 [04:53<00:00,  1.16it/s, loss=0.240206\ttrain_bleu=76.6929\ttest_bleu=46.3270] \n",
      "EPOCH [46 / 50]: 100%|██████████| 340/340 [04:51<00:00,  1.17it/s, loss=0.136489\ttrain_bleu=94.6765\ttest_bleu=50.3785]\n",
      "EPOCH [47 / 50]: 100%|██████████| 340/340 [04:53<00:00,  1.16it/s, loss=0.340712\ttrain_bleu=75.6676\ttest_bleu=49.5405] \n",
      "EPOCH [48 / 50]: 100%|██████████| 340/340 [04:53<00:00,  1.16it/s, loss=0.299092\ttrain_bleu=90.6250\ttest_bleu=53.1208] \n",
      "EPOCH [49 / 50]: 100%|██████████| 340/340 [05:11<00:00,  1.09it/s, loss=0.421330\ttrain_bleu=75.3915\ttest_bleu=46.0646]\n",
      "EPOCH [50 / 50]: 100%|██████████| 340/340 [05:12<00:00,  1.09it/s, loss=0.293843\ttrain_bleu=86.4688\ttest_bleu=51.4899] "
     ]
    },
    {
     "name": "stdout",
     "output_type": "stream",
     "text": [
      "Saving model...\n"
     ]
    },
    {
     "name": "stderr",
     "output_type": "stream",
     "text": [
      "\n"
     ]
    }
   ],
   "source": [
    "if ENABLE_TRAINING:\n",
    "    print(\"Training...\")\n",
    "\n",
    "    metrics = {\n",
    "        \"loss\": [],\n",
    "        \"train_bleu\": [],\n",
    "        \"test_bleu\": [],\n",
    "    }\n",
    "\n",
    "    for epoch in range(NUM_EPOCHS):\n",
    "\n",
    "        model.train()\n",
    "        mean_train_bleu = 0\n",
    "        mean_test_bleu = 0\n",
    "        mean_loss = 0\n",
    "\n",
    "        epoch_num = f\"[{epoch + 1:0{len(str(NUM_EPOCHS))}d} / {NUM_EPOCHS}]\"\n",
    "        iterator = tqdm(train_iterator, desc=f\"EPOCH {epoch_num}\")\n",
    "        for idx, batch in enumerate(iterator):\n",
    "            src = batch.src.to(DEVICE)\n",
    "            tgt = batch.tgt.to(DEVICE)\n",
    "\n",
    "            out = model(src, tgt[:-1])\n",
    "            out = out.reshape(-1, out.shape[2])\n",
    "            _tgt = tgt[1:].reshape(-1)\n",
    "            optimizer.zero_grad()\n",
    "\n",
    "            loss = criterion(out, _tgt)\n",
    "\n",
    "            current_loss = loss.item()\n",
    "            current_train_bleu = get_batch_bleu(model, src, tgt, bulgarian)\n",
    "            current_test_bleu = random_eval(\n",
    "                model=model,\n",
    "                n_examples=32,\n",
    "                dataset=test_dataset,\n",
    "                src_lang=polish,\n",
    "                tgt_lang=bulgarian,\n",
    "                device=DEVICE,\n",
    "                token_limit=TOKEN_LIMIT,\n",
    "            )[\"score\"]\n",
    "\n",
    "            mean_loss += current_loss / len(train_iterator)\n",
    "            mean_train_bleu += current_train_bleu / len(train_iterator)\n",
    "            mean_test_bleu += current_test_bleu / len(train_iterator)\n",
    "\n",
    "            if idx == len(train_iterator):\n",
    "                iterator.set_postfix_str(\n",
    "                    f\"loss={mean_loss:.4f}\\t\"\n",
    "                    f\"train_bleu={mean_train_bleu:.2f}\\t\"\n",
    "                    f\"test_bleu={mean_test_bleu:.2f}\"\n",
    "                )\n",
    "            else:\n",
    "                iterator.set_postfix_str(\n",
    "                    f\"loss={current_loss:.6f}\\t\"\n",
    "                    f\"train_bleu={current_train_bleu:.4f}\\t\"\n",
    "                    f\"test_bleu={current_test_bleu:.4f}\"\n",
    "                )\n",
    "\n",
    "            loss.backward()\n",
    "            torch.nn.utils.clip_grad_norm_(model.parameters(), max_norm=1)\n",
    "            optimizer.step()\n",
    "\n",
    "        metrics[\"loss\"].append(mean_loss)\n",
    "        metrics[\"train_bleu\"].append(mean_train_bleu)\n",
    "        metrics[\"test_bleu\"].append(mean_test_bleu)\n",
    "\n",
    "    print(\"Saving model...\")\n",
    "    json.dump(model_metadata, open(MODEL_PATH + \".json\", \"w\"))\n",
    "    torch.save(model.state_dict(), MODEL_PATH)\n",
    "\n",
    "else:\n",
    "    print(\"Loading pretrained model...\")\n",
    "    print(model.load_state_dict(torch.load(MODEL_PATH)))"
   ]
  },
  {
   "cell_type": "code",
   "execution_count": 18,
   "metadata": {},
   "outputs": [],
   "source": [
    "json.dump(model_metadata, open(MODEL_PATH + \".json\", \"w\"))\n",
    "torch.save(model.state_dict(), MODEL_PATH)"
   ]
  },
  {
   "cell_type": "code",
   "execution_count": 19,
   "metadata": {},
   "outputs": [
    {
     "data": {
      "image/png": "[encoded data removed]",
      "text/plain": [
       "<Figure size 1500x500 with 2 Axes>"
      ]
     },
     "metadata": {},
     "output_type": "display_data"
    }
   ],
   "source": [
    "if ENABLE_TRAINING:\n",
    "    fig, ax = plt.subplots(1, 2, figsize=(15, 5))\n",
    "    ax[0].plot(metrics[\"train_bleu\"], c=\"orange\")\n",
    "    ax[0].plot(metrics[\"test_bleu\"], c=\"green\")\n",
    "    ax[0].legend([\"Train BLEU\", \"Test BLEU\"])\n",
    "    ax[0].set_ylabel(\"Mean BLEU score\")\n",
    "    ax[0].set_xlabel(\"Epoch\")\n",
    "    ax[0].set_title(\"BLEU score over epochs\")\n",
    "    ax[1].plot(metrics[\"loss\"], c=\"orange\")\n",
    "    ax[1].set_ylabel(\"Mean loss\")\n",
    "    ax[1].set_xlabel(\"Epoch\")\n",
    "    ax[1].set_title(\"Loss over epochs\")\n",
    "    plt.savefig(f\"{MODEL_PATH}.png\", dpi=300)\n",
    "    plt.show()"
   ]
  },
  {
   "cell_type": "markdown",
   "metadata": {},
   "source": [
    "## Ewaluacja"
   ]
  },
  {
   "cell_type": "code",
   "execution_count": 22,
   "metadata": {},
   "outputs": [],
   "source": [
    "evaluation = random_eval(\n",
    "    model=model,\n",
    "    n_examples=32,\n",
    "    dataset=test_dataset,\n",
    "    src_lang=polish,\n",
    "    tgt_lang=bulgarian,\n",
    "    device=DEVICE,\n",
    "    token_limit=TOKEN_LIMIT,\n",
    ")\n",
    "for example in evaluation[\"examples\"]:\n",
    "    print(example, file=open(f\"{MODEL_PATH}.txt\", \"a\"))\n",
    "print(f\"BLEU: {evaluation[\"score\"]}\", file=open(f\"{MODEL_PATH}.txt\", \"a\"))"
   ]
  }
 ],
 "metadata": {
  "kernelspec": {
   "display_name": "nlp_proj",
   "language": "python",
   "name": "python3"
  },
  "language_info": {
   "codemirror_mode": {
    "name": "ipython",
    "version": 3
   },
   "file_extension": ".py",
   "mimetype": "text/x-python",
   "name": "python",
   "nbconvert_exporter": "python",
   "pygments_lexer": "ipython3",
   "version": "3.12.3"
  }
 },
 "nbformat": 4,
 "nbformat_minor": 2
}
