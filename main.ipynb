{
 "cells": [
  {
   "cell_type": "markdown",
   "metadata": {},
   "source": [
    "# Tłumacz polsko-bułgarski oparty o architekturę transformera"
   ]
  },
  {
   "cell_type": "markdown",
   "metadata": {},
   "source": [
    "## Biblioteki i ustawienia"
   ]
  },
  {
   "cell_type": "code",
   "execution_count": 1,
   "metadata": {},
   "outputs": [],
   "source": [
    "import json\n",
    "\n",
    "from torchtext.data import Field, BucketIterator\n",
    "from tqdm import tqdm\n",
    "import matplotlib.pyplot as plt\n",
    "import spacy\n",
    "import torch\n",
    "import torch.nn as nn\n",
    "import torch.nn.functional as F\n",
    "import torch.optim as optim\n",
    "\n",
    "from utils import get_dataset_splits, random_eval, get_batch_bleu"
   ]
  },
  {
   "cell_type": "code",
   "execution_count": 2,
   "metadata": {},
   "outputs": [
    {
     "name": "stdout",
     "output_type": "stream",
     "text": [
      "Python 3.12.3\n"
     ]
    }
   ],
   "source": [
    "!python --version"
   ]
  },
  {
   "cell_type": "code",
   "execution_count": 3,
   "metadata": {},
   "outputs": [
    {
     "data": {
      "text/plain": [
       "device(type='cpu')"
      ]
     },
     "execution_count": 3,
     "metadata": {},
     "output_type": "execute_result"
    }
   ],
   "source": [
    "DEVICE = torch.device(\"cuda\" if torch.cuda.is_available() else \"cpu\")\n",
    "DEVICE"
   ]
  },
  {
   "cell_type": "code",
   "execution_count": 4,
   "metadata": {},
   "outputs": [],
   "source": [
    "# training hyperparameters\n",
    "LEARNING_RATE = 1e-4\n",
    "NUM_EPOCHS = 100\n",
    "BATCH_SIZE = 32\n",
    "\n",
    "# model hyperparameters\n",
    "EMBEDDING_SIZE = 128\n",
    "NUM_ENC_LAYERS = 3\n",
    "NUM_DEC_LAYERS = 3\n",
    "TOKEN_LIMIT = 32\n",
    "FWD_EXPANSION = 4\n",
    "NUM_HEADS = 16\n",
    "DROPOUT = 0.1\n",
    "\n",
    "# other\n",
    "ENABLE_TRAINING = True\n",
    "TRAIN_DATASET_PATH = f\"./datasets/train_dataset_sub_{TOKEN_LIMIT}.pkl\"\n",
    "TEST_DATASET_PATH = f\"./datasets/test_dataset_sub_{TOKEN_LIMIT}.pkl\"\n",
    "MODEL_PATH = f\"./serialized_models/model_sub_{TOKEN_LIMIT}_{NUM_EPOCHS}\"\n",
    "CORPUS_PATH = \"./raw_data/subset/\"\n",
    "TFMT = \"%M:%S\""
   ]
  },
  {
   "cell_type": "code",
   "execution_count": 50,
   "metadata": {},
   "outputs": [],
   "source": [
    "model_metadata = {\n",
    "    \"training_hyperparameters\": {\n",
    "        \"learning_rate\": LEARNING_RATE,\n",
    "        \"num_epochs\": NUM_EPOCHS,\n",
    "        \"batch_size\": BATCH_SIZE,\n",
    "    },\n",
    "    \"model_hyperparameters\": {\n",
    "        \"embedding_size\": EMBEDDING_SIZE,\n",
    "        \"num_enc_layers\": NUM_ENC_LAYERS,\n",
    "        \"num_dec_layers\": NUM_DEC_LAYERS,\n",
    "        \"token_limit\": TOKEN_LIMIT,\n",
    "        \"fwd_expansion\": FWD_EXPANSION,\n",
    "        \"num_heads\": NUM_HEADS,\n",
    "        \"dropout\": DROPOUT,\n",
    "        \"device\": str(DEVICE),\n",
    "    },\n",
    "    \"model_architecture\": {},\n",
    "    \"other\": {\n",
    "        \"model_path\": MODEL_PATH,\n",
    "        \"train_dataset_path\": TRAIN_DATASET_PATH,\n",
    "        \"test_dataset_path\": TEST_DATASET_PATH,\n",
    "        \"corpus_path\": CORPUS_PATH,\n",
    "    }\n",
    "}"
   ]
  },
  {
   "cell_type": "markdown",
   "metadata": {},
   "source": [
    "## Tokenizatory"
   ]
  },
  {
   "cell_type": "markdown",
   "metadata": {},
   "source": [
    "Zaprojektowałem dwa tokenizatory, osobno dla każdego języka. Są one oparte o modele `pl_core_news_lg` i `uk_core_news_lg` z biblioteki `spacy`. Jak widać dla języka bułgarskiego użyty został model przeznaczony dla języka ukraińskiego. Jest to spowodowane brakiem modelu dla języka bułgarskiego w bibliotece `spacy` oraz wysokim podobieństwem tych języków. Zakładam, że nie powinno to negatywnie wpłynąć na jakość tłumaczenia."
   ]
  },
  {
   "cell_type": "code",
   "execution_count": 6,
   "metadata": {},
   "outputs": [],
   "source": [
    "nlp_pl = spacy.load(\"pl_core_news_lg\")\n",
    "nlp_bg = spacy.load(\"uk_core_news_lg\")"
   ]
  },
  {
   "cell_type": "code",
   "execution_count": 7,
   "metadata": {},
   "outputs": [],
   "source": [
    "def tokenize_pl(text):\n",
    "    return [token.text for token in nlp_pl.tokenizer(text)]\n",
    "\n",
    "def tokenize_bg(text):\n",
    "    return [token.text for token in nlp_bg.tokenizer(text)]"
   ]
  },
  {
   "cell_type": "code",
   "execution_count": 8,
   "metadata": {},
   "outputs": [],
   "source": [
    "polish = Field(\n",
    "    tokenize=tokenize_pl, lower=True,\n",
    "    init_token=\"<bos>\", eos_token=\"<eos>\"\n",
    ")\n",
    "\n",
    "bulgarian = Field(\n",
    "    tokenize=tokenize_bg, lower=True,\n",
    "    init_token=\"<bos>\", eos_token=\"<eos>\"\n",
    ")"
   ]
  },
  {
   "cell_type": "markdown",
   "metadata": {},
   "source": [
    "## Wczytanie danych"
   ]
  },
  {
   "cell_type": "code",
   "execution_count": 9,
   "metadata": {},
   "outputs": [
    {
     "name": "stdout",
     "output_type": "stream",
     "text": [
      "Loading dataset from: ./datasets/train_dataset_sub_32.pkl\n",
      "Loading dataset from: ./datasets/test_dataset_sub_32.pkl\n",
      "Done.\n",
      "\n",
      "<|TRAIN SET|>\n",
      "number of examples: 1213\n",
      "number of source tokens: 2633\n",
      "number of target tokens: 2744\n",
      "\n",
      "\n",
      "<|TEST SET|>\n",
      "number of examples: 123\n",
      "number of source tokens: 264\n",
      "number of target tokens: 265\n",
      "\n"
     ]
    }
   ],
   "source": [
    "fields = [(\"src\", polish), (\"tgt\", bulgarian)]\n",
    "train_dataset, test_dataset = get_dataset_splits(\n",
    "    train_dataset_path=TRAIN_DATASET_PATH,\n",
    "    test_dataset_path=TEST_DATASET_PATH,\n",
    "    corpus_path=CORPUS_PATH,\n",
    "    max_len=TOKEN_LIMIT,\n",
    "    fields=fields,\n",
    ")"
   ]
  },
  {
   "cell_type": "code",
   "execution_count": 10,
   "metadata": {},
   "outputs": [],
   "source": [
    "polish.build_vocab(train_dataset, max_size=10000, min_freq=2)\n",
    "bulgarian.build_vocab(train_dataset, max_size=10000, min_freq=2)"
   ]
  },
  {
   "cell_type": "code",
   "execution_count": 11,
   "metadata": {},
   "outputs": [],
   "source": [
    "train_iterator, test_iterator = BucketIterator.splits(\n",
    "    (train_dataset, test_dataset),\n",
    "    batch_size=BATCH_SIZE,\n",
    "    sort_within_batch=True,\n",
    "    sort_key = lambda x: len(x.src),\n",
    "    device=DEVICE\n",
    ")"
   ]
  },
  {
   "cell_type": "markdown",
   "metadata": {},
   "source": [
    "## Architektura modelu"
   ]
  },
  {
   "cell_type": "code",
   "execution_count": 12,
   "metadata": {},
   "outputs": [],
   "source": [
    "class PL2BG(nn.Module):\n",
    "    def __init__(\n",
    "        self,\n",
    "        embedding_size,\n",
    "        src_vocab_size,\n",
    "        tgt_vocab_size,\n",
    "        src_pad_idx,\n",
    "        num_heads,\n",
    "        num_encoder_layers,\n",
    "        num_decoder_layers,\n",
    "        forward_expansion,\n",
    "        dropout,\n",
    "        token_limit,\n",
    "        device,\n",
    "    ):\n",
    "        super(PL2BG, self).__init__()\n",
    "        self.src_word_embedding = nn.Embedding(src_vocab_size, embedding_size)\n",
    "        self.tgt_word_embedding = nn.Embedding(tgt_vocab_size, embedding_size)\n",
    "        self.position_embedding = nn.Embedding(token_limit, embedding_size)\n",
    "        self.device = device\n",
    "        self.transformer = nn.Transformer(\n",
    "            d_model=embedding_size,\n",
    "            nhead=num_heads,\n",
    "            num_encoder_layers=num_encoder_layers,\n",
    "            num_decoder_layers=num_decoder_layers,\n",
    "            dim_feedforward=forward_expansion,\n",
    "            dropout=dropout,\n",
    "        )\n",
    "        self.fc_1 = nn.Linear(embedding_size, 512)\n",
    "        self.fc_2 = nn.Linear(512, 512)\n",
    "        self.fc_3 = nn.Linear(512, 1024)\n",
    "        self.fc_4 = nn.Linear(1024, embedding_size)\n",
    "        self.unembedding = nn.Linear(embedding_size, tgt_vocab_size)\n",
    "        self.dropout = nn.Dropout(dropout)\n",
    "        self.src_pad_idx = src_pad_idx\n",
    "\n",
    "    def make_src_mask(self, src):\n",
    "        return src.transpose(0, 1) == self.src_pad_idx\n",
    "\n",
    "    def forward(self, src, tgt):\n",
    "        src_seq_len, n = src.shape\n",
    "        tgt_seq_len = tgt.shape[0]\n",
    "        src_positions = torch.arange(0, src_seq_len) \\\n",
    "            .unsqueeze(1).expand(src_seq_len, n).to(self.device)\n",
    "        tgt_positions = torch.arange(0, tgt_seq_len) \\\n",
    "            .unsqueeze(1).expand(tgt_seq_len, n).to(self.device)\n",
    "        embedded_src = self.dropout(\n",
    "            self.src_word_embedding(src)\n",
    "            + self.position_embedding(src_positions)\n",
    "        )\n",
    "        embedded_tgt = self.dropout(\n",
    "            self.tgt_word_embedding(tgt)\n",
    "            + self.position_embedding(tgt_positions)\n",
    "        )\n",
    "        src_padding_mask = self.make_src_mask(src)\n",
    "        tgt_mask = self.transformer \\\n",
    "            .generate_square_subsequent_mask(tgt_seq_len).to(self.device)\n",
    "        output = self.transformer(\n",
    "            embedded_src,\n",
    "            embedded_tgt,\n",
    "            src_key_padding_mask=src_padding_mask,\n",
    "            tgt_mask=tgt_mask\n",
    "        )\n",
    "        output = F.relu(self.fc_1(output))\n",
    "        output = F.relu(self.fc_2(output))\n",
    "        output = F.relu(self.fc_3(output))\n",
    "        output = F.relu(self.fc_4(output))\n",
    "        return self.unembedding(output)"
   ]
  },
  {
   "cell_type": "markdown",
   "metadata": {},
   "source": [
    "## Inicjalizacja i trening"
   ]
  },
  {
   "cell_type": "code",
   "execution_count": 13,
   "metadata": {},
   "outputs": [
    {
     "name": "stderr",
     "output_type": "stream",
     "text": [
      "/home/f1lem0n/.miniconda3/envs/nlp_proj/lib/python3.12/site-packages/torch/nn/modules/transformer.py:306: UserWarning: enable_nested_tensor is True, but self.use_nested_tensor is False because encoder_layer.self_attn.batch_first was not True(use batch_first for better inference performance)\n",
      "  warnings.warn(f\"enable_nested_tensor is True, but self.use_nested_tensor is False because {why_not_sparsity_fast_path}\")\n"
     ]
    }
   ],
   "source": [
    "tgt_pad_idx = bulgarian.vocab.stoi[\"<pad>\"]\n",
    "src_pad_idx = polish.vocab.stoi[\"<pad>\"]\n",
    "tgt_vocab_size = len(bulgarian.vocab)\n",
    "src_vocab_size = len(polish.vocab)\n",
    "\n",
    "model = PL2BG(\n",
    "    num_encoder_layers=NUM_ENC_LAYERS,\n",
    "    num_decoder_layers=NUM_DEC_LAYERS,\n",
    "    forward_expansion=FWD_EXPANSION,\n",
    "    embedding_size=EMBEDDING_SIZE,\n",
    "    src_vocab_size=src_vocab_size,\n",
    "    tgt_vocab_size=tgt_vocab_size,\n",
    "    src_pad_idx=src_pad_idx,\n",
    "    token_limit=TOKEN_LIMIT,\n",
    "    num_heads=NUM_HEADS,\n",
    "    dropout=DROPOUT,\n",
    "    device=DEVICE,\n",
    ").to(DEVICE)\n",
    "\n",
    "optimizer = optim.Adam(model.parameters(), lr=LEARNING_RATE)\n",
    "criterion = nn.CrossEntropyLoss(ignore_index=tgt_pad_idx)"
   ]
  },
  {
   "cell_type": "code",
   "execution_count": 51,
   "metadata": {},
   "outputs": [],
   "source": [
    "layers = [layer.view(1, -1).squeeze().shape[0] for layer in model.parameters()]\n",
    "model_metadata[\"model_architecture\"][\"num_params\"] = sum(layers)\n",
    "model_metadata[\"model_architecture\"][\"num_layers\"] = len(layers)"
   ]
  },
  {
   "cell_type": "code",
   "execution_count": 15,
   "metadata": {},
   "outputs": [
    {
     "name": "stdout",
     "output_type": "stream",
     "text": [
      "Training...\n"
     ]
    },
    {
     "name": "stderr",
     "output_type": "stream",
     "text": [
      "EPOCH [001 / 100]: 100%|██████████| 38/38 [00:18<00:00,  2.04it/s, loss=3.980677\ttrain_bleu=0.0000\ttest_bleu=0.0000]\n",
      "EPOCH [002 / 100]: 100%|██████████| 38/38 [00:05<00:00,  7.44it/s, loss=2.943541\ttrain_bleu=23.1480\ttest_bleu=19.8758]\n",
      "EPOCH [003 / 100]: 100%|██████████| 38/38 [00:07<00:00,  5.09it/s, loss=2.185164\ttrain_bleu=24.6088\ttest_bleu=15.9435]\n",
      "EPOCH [004 / 100]: 100%|██████████| 38/38 [00:07<00:00,  4.88it/s, loss=2.219496\ttrain_bleu=34.8508\ttest_bleu=13.8408]\n",
      "EPOCH [005 / 100]: 100%|██████████| 38/38 [00:07<00:00,  4.76it/s, loss=1.775523\ttrain_bleu=36.2854\ttest_bleu=20.5873]\n",
      "EPOCH [006 / 100]: 100%|██████████| 38/38 [00:08<00:00,  4.53it/s, loss=2.019352\ttrain_bleu=34.3247\ttest_bleu=18.7552]\n",
      "EPOCH [007 / 100]: 100%|██████████| 38/38 [00:09<00:00,  4.14it/s, loss=1.743404\ttrain_bleu=38.6726\ttest_bleu=15.2986]\n",
      "EPOCH [008 / 100]: 100%|██████████| 38/38 [00:10<00:00,  3.80it/s, loss=3.464215\ttrain_bleu=20.5449\ttest_bleu=20.2475]\n",
      "EPOCH [009 / 100]: 100%|██████████| 38/38 [00:10<00:00,  3.61it/s, loss=1.336585\ttrain_bleu=52.0371\ttest_bleu=16.9368]\n",
      "EPOCH [010 / 100]: 100%|██████████| 38/38 [00:09<00:00,  3.98it/s, loss=1.958642\ttrain_bleu=33.2064\ttest_bleu=46.3865]\n",
      "EPOCH [011 / 100]: 100%|██████████| 38/38 [00:09<00:00,  3.87it/s, loss=2.815913\ttrain_bleu=18.9189\ttest_bleu=43.2615]\n",
      "EPOCH [012 / 100]: 100%|██████████| 38/38 [00:10<00:00,  3.75it/s, loss=3.205374\ttrain_bleu=16.0379\ttest_bleu=31.8081]\n",
      "EPOCH [013 / 100]: 100%|██████████| 38/38 [00:10<00:00,  3.71it/s, loss=1.137064\ttrain_bleu=62.0869\ttest_bleu=31.2681]\n",
      "EPOCH [014 / 100]: 100%|██████████| 38/38 [00:09<00:00,  3.90it/s, loss=0.847855\ttrain_bleu=76.1014\ttest_bleu=52.2945]\n",
      "EPOCH [015 / 100]: 100%|██████████| 38/38 [00:10<00:00,  3.55it/s, loss=0.752048\ttrain_bleu=78.7539\ttest_bleu=33.8108]\n",
      "EPOCH [016 / 100]: 100%|██████████| 38/38 [00:09<00:00,  4.05it/s, loss=3.325050\ttrain_bleu=12.3935\ttest_bleu=54.5156]\n",
      "EPOCH [017 / 100]: 100%|██████████| 38/38 [00:10<00:00,  3.56it/s, loss=0.713395\ttrain_bleu=68.6038\ttest_bleu=41.7700]\n",
      "EPOCH [018 / 100]: 100%|██████████| 38/38 [00:09<00:00,  3.91it/s, loss=1.148661\ttrain_bleu=57.1190\ttest_bleu=55.1512]\n",
      "EPOCH [019 / 100]: 100%|██████████| 38/38 [00:09<00:00,  3.98it/s, loss=0.950460\ttrain_bleu=66.6282\ttest_bleu=45.6076]\n",
      "EPOCH [020 / 100]: 100%|██████████| 38/38 [00:09<00:00,  3.91it/s, loss=1.714133\ttrain_bleu=29.0692\ttest_bleu=51.5625]\n",
      "EPOCH [021 / 100]: 100%|██████████| 38/38 [00:09<00:00,  4.01it/s, loss=0.676850\ttrain_bleu=72.9204\ttest_bleu=60.1926]\n",
      "EPOCH [022 / 100]: 100%|██████████| 38/38 [00:09<00:00,  3.83it/s, loss=0.942495\ttrain_bleu=59.6356\ttest_bleu=42.7041]\n",
      "EPOCH [023 / 100]: 100%|██████████| 38/38 [00:09<00:00,  3.82it/s, loss=1.933506\ttrain_bleu=28.5497\ttest_bleu=55.4214]\n",
      "EPOCH [024 / 100]: 100%|██████████| 38/38 [00:09<00:00,  3.94it/s, loss=0.599417\ttrain_bleu=79.6164\ttest_bleu=60.3084]\n",
      "EPOCH [025 / 100]: 100%|██████████| 38/38 [00:09<00:00,  3.87it/s, loss=2.259037\ttrain_bleu=22.0715\ttest_bleu=54.8278]\n",
      "EPOCH [026 / 100]: 100%|██████████| 38/38 [00:09<00:00,  3.97it/s, loss=1.965324\ttrain_bleu=32.9124\ttest_bleu=74.4358]\n",
      "EPOCH [027 / 100]: 100%|██████████| 38/38 [00:09<00:00,  3.84it/s, loss=0.531736\ttrain_bleu=73.1040\ttest_bleu=48.9782]\n",
      "EPOCH [028 / 100]: 100%|██████████| 38/38 [00:10<00:00,  3.59it/s, loss=0.717346\ttrain_bleu=64.7336\ttest_bleu=66.1831]\n",
      "EPOCH [029 / 100]: 100%|██████████| 38/38 [00:09<00:00,  3.84it/s, loss=0.471687\ttrain_bleu=70.9646\ttest_bleu=60.2482]\n",
      "EPOCH [030 / 100]: 100%|██████████| 38/38 [00:09<00:00,  4.06it/s, loss=0.392685\ttrain_bleu=87.0040\ttest_bleu=53.2003]\n",
      "EPOCH [031 / 100]: 100%|██████████| 38/38 [00:09<00:00,  4.17it/s, loss=0.316989\ttrain_bleu=83.9475\ttest_bleu=63.7036]\n",
      "EPOCH [032 / 100]: 100%|██████████| 38/38 [00:09<00:00,  4.08it/s, loss=1.345445\ttrain_bleu=52.9619\ttest_bleu=72.9149]\n",
      "EPOCH [033 / 100]: 100%|██████████| 38/38 [00:09<00:00,  3.81it/s, loss=0.242704\ttrain_bleu=84.4946\ttest_bleu=64.2613]\n",
      "EPOCH [034 / 100]: 100%|██████████| 38/38 [00:10<00:00,  3.63it/s, loss=0.583153\ttrain_bleu=64.5409\ttest_bleu=63.0702]\n",
      "EPOCH [035 / 100]: 100%|██████████| 38/38 [00:09<00:00,  4.05it/s, loss=0.622012\ttrain_bleu=68.2895\ttest_bleu=50.2307]\n",
      "EPOCH [036 / 100]: 100%|██████████| 38/38 [00:09<00:00,  4.02it/s, loss=0.425502\ttrain_bleu=81.5759\ttest_bleu=69.1842]\n",
      "EPOCH [037 / 100]: 100%|██████████| 38/38 [00:09<00:00,  3.95it/s, loss=1.572060\ttrain_bleu=36.7375\ttest_bleu=66.0592]\n",
      "EPOCH [038 / 100]: 100%|██████████| 38/38 [00:09<00:00,  3.89it/s, loss=0.389520\ttrain_bleu=83.5258\ttest_bleu=69.0036]\n",
      "EPOCH [039 / 100]: 100%|██████████| 38/38 [00:10<00:00,  3.48it/s, loss=1.694534\ttrain_bleu=33.9567\ttest_bleu=58.4597]\n",
      "EPOCH [040 / 100]: 100%|██████████| 38/38 [00:09<00:00,  3.90it/s, loss=0.134379\ttrain_bleu=84.2398\ttest_bleu=62.8251]\n",
      "EPOCH [041 / 100]: 100%|██████████| 38/38 [00:09<00:00,  4.06it/s, loss=0.389627\ttrain_bleu=74.2215\ttest_bleu=68.3339]\n",
      "EPOCH [042 / 100]: 100%|██████████| 38/38 [00:09<00:00,  4.01it/s, loss=0.369653\ttrain_bleu=81.0160\ttest_bleu=69.1516]\n",
      "EPOCH [043 / 100]: 100%|██████████| 38/38 [00:09<00:00,  3.97it/s, loss=0.231735\ttrain_bleu=84.9541\ttest_bleu=52.9272]\n",
      "EPOCH [044 / 100]: 100%|██████████| 38/38 [00:10<00:00,  3.50it/s, loss=0.900741\ttrain_bleu=59.5541\ttest_bleu=75.0295]\n",
      "EPOCH [045 / 100]: 100%|██████████| 38/38 [00:10<00:00,  3.57it/s, loss=1.390597\ttrain_bleu=50.8058\ttest_bleu=53.5592]\n",
      "EPOCH [046 / 100]: 100%|██████████| 38/38 [00:09<00:00,  3.81it/s, loss=0.165867\ttrain_bleu=82.4236\ttest_bleu=72.5426]\n",
      "EPOCH [047 / 100]: 100%|██████████| 38/38 [00:09<00:00,  3.92it/s, loss=0.730478\ttrain_bleu=63.1049\ttest_bleu=67.6019]\n",
      "EPOCH [048 / 100]: 100%|██████████| 38/38 [00:10<00:00,  3.64it/s, loss=0.244721\ttrain_bleu=82.3250\ttest_bleu=70.2028]\n",
      "EPOCH [049 / 100]: 100%|██████████| 38/38 [00:11<00:00,  3.26it/s, loss=0.987300\ttrain_bleu=58.0660\ttest_bleu=57.3822]\n",
      "EPOCH [050 / 100]: 100%|██████████| 38/38 [00:09<00:00,  3.95it/s, loss=1.051893\ttrain_bleu=46.8818\ttest_bleu=53.8543]\n",
      "EPOCH [051 / 100]: 100%|██████████| 38/38 [00:09<00:00,  4.03it/s, loss=0.215172\ttrain_bleu=83.6910\ttest_bleu=55.8676]\n",
      "EPOCH [052 / 100]: 100%|██████████| 38/38 [00:09<00:00,  3.98it/s, loss=0.183641\ttrain_bleu=84.2922\ttest_bleu=69.0866]\n",
      "EPOCH [053 / 100]: 100%|██████████| 38/38 [00:09<00:00,  4.06it/s, loss=0.144112\ttrain_bleu=86.2446\ttest_bleu=61.1495]\n",
      "EPOCH [054 / 100]: 100%|██████████| 38/38 [00:09<00:00,  4.13it/s, loss=0.193553\ttrain_bleu=86.4755\ttest_bleu=65.6129]\n",
      "EPOCH [055 / 100]: 100%|██████████| 38/38 [00:09<00:00,  3.98it/s, loss=0.413211\ttrain_bleu=84.4176\ttest_bleu=55.2282]\n",
      "EPOCH [056 / 100]: 100%|██████████| 38/38 [00:09<00:00,  4.11it/s, loss=0.236630\ttrain_bleu=85.3997\ttest_bleu=67.3974]\n",
      "EPOCH [057 / 100]: 100%|██████████| 38/38 [00:09<00:00,  3.83it/s, loss=0.314082\ttrain_bleu=82.8218\ttest_bleu=72.9973]\n",
      "EPOCH [058 / 100]: 100%|██████████| 38/38 [00:10<00:00,  3.70it/s, loss=0.832942\ttrain_bleu=60.2401\ttest_bleu=65.0586]\n",
      "EPOCH [059 / 100]: 100%|██████████| 38/38 [00:09<00:00,  4.02it/s, loss=0.146305\ttrain_bleu=87.8057\ttest_bleu=57.4957]\n",
      "EPOCH [060 / 100]: 100%|██████████| 38/38 [00:10<00:00,  3.73it/s, loss=0.243621\ttrain_bleu=77.9966\ttest_bleu=64.3811]\n",
      "EPOCH [061 / 100]: 100%|██████████| 38/38 [00:09<00:00,  3.84it/s, loss=0.436070\ttrain_bleu=72.2176\ttest_bleu=55.3113]\n",
      "EPOCH [062 / 100]: 100%|██████████| 38/38 [00:10<00:00,  3.79it/s, loss=0.264003\ttrain_bleu=80.5673\ttest_bleu=68.6200]\n",
      "EPOCH [063 / 100]: 100%|██████████| 38/38 [00:11<00:00,  3.39it/s, loss=0.843888\ttrain_bleu=48.8573\ttest_bleu=70.6980]\n",
      "EPOCH [064 / 100]: 100%|██████████| 38/38 [00:09<00:00,  3.99it/s, loss=0.132573\ttrain_bleu=89.1879\ttest_bleu=57.6825]\n",
      "EPOCH [065 / 100]: 100%|██████████| 38/38 [00:10<00:00,  3.58it/s, loss=0.162545\ttrain_bleu=74.7439\ttest_bleu=63.6547]\n",
      "EPOCH [066 / 100]: 100%|██████████| 38/38 [00:10<00:00,  3.74it/s, loss=0.393713\ttrain_bleu=75.4060\ttest_bleu=68.5941]\n",
      "EPOCH [067 / 100]: 100%|██████████| 38/38 [00:09<00:00,  3.89it/s, loss=0.191159\ttrain_bleu=81.7181\ttest_bleu=53.4354]\n",
      "EPOCH [068 / 100]: 100%|██████████| 38/38 [00:11<00:00,  3.28it/s, loss=0.263216\ttrain_bleu=78.5800\ttest_bleu=67.1997]\n",
      "EPOCH [069 / 100]: 100%|██████████| 38/38 [00:10<00:00,  3.70it/s, loss=0.127661\ttrain_bleu=80.0490\ttest_bleu=72.4777]\n",
      "EPOCH [070 / 100]: 100%|██████████| 38/38 [00:09<00:00,  3.99it/s, loss=0.179137\ttrain_bleu=81.5368\ttest_bleu=52.4959]\n",
      "EPOCH [071 / 100]: 100%|██████████| 38/38 [00:09<00:00,  3.94it/s, loss=0.184539\ttrain_bleu=82.1025\ttest_bleu=55.2272]\n",
      "EPOCH [072 / 100]: 100%|██████████| 38/38 [00:09<00:00,  4.18it/s, loss=0.105549\ttrain_bleu=86.7057\ttest_bleu=57.5919]\n",
      "EPOCH [073 / 100]: 100%|██████████| 38/38 [00:08<00:00,  4.23it/s, loss=0.708929\ttrain_bleu=57.5504\ttest_bleu=51.4112]\n",
      "EPOCH [074 / 100]: 100%|██████████| 38/38 [00:09<00:00,  4.13it/s, loss=0.354259\ttrain_bleu=80.1077\ttest_bleu=78.6657]\n",
      "EPOCH [075 / 100]: 100%|██████████| 38/38 [00:09<00:00,  3.84it/s, loss=0.206384\ttrain_bleu=77.3491\ttest_bleu=65.5835]\n",
      "EPOCH [076 / 100]: 100%|██████████| 38/38 [00:09<00:00,  4.05it/s, loss=0.553980\ttrain_bleu=61.0186\ttest_bleu=70.8947]\n",
      "EPOCH [077 / 100]: 100%|██████████| 38/38 [00:09<00:00,  4.15it/s, loss=0.158354\ttrain_bleu=88.6931\ttest_bleu=61.3424]\n",
      "EPOCH [078 / 100]: 100%|██████████| 38/38 [00:09<00:00,  4.08it/s, loss=0.200800\ttrain_bleu=79.5813\ttest_bleu=54.9091]\n",
      "EPOCH [079 / 100]: 100%|██████████| 38/38 [00:09<00:00,  4.07it/s, loss=0.418484\ttrain_bleu=58.4906\ttest_bleu=71.1455]\n",
      "EPOCH [080 / 100]: 100%|██████████| 38/38 [00:09<00:00,  4.03it/s, loss=0.328668\ttrain_bleu=65.8718\ttest_bleu=64.4967]\n",
      "EPOCH [081 / 100]: 100%|██████████| 38/38 [00:09<00:00,  4.12it/s, loss=0.307696\ttrain_bleu=77.4470\ttest_bleu=81.2834]\n",
      "EPOCH [082 / 100]: 100%|██████████| 38/38 [00:10<00:00,  3.47it/s, loss=0.358271\ttrain_bleu=73.5671\ttest_bleu=66.2988]\n",
      "EPOCH [083 / 100]: 100%|██████████| 38/38 [00:09<00:00,  3.81it/s, loss=0.299116\ttrain_bleu=70.1224\ttest_bleu=55.0730]\n",
      "EPOCH [084 / 100]: 100%|██████████| 38/38 [00:09<00:00,  3.85it/s, loss=0.198825\ttrain_bleu=83.0265\ttest_bleu=57.8204]\n",
      "EPOCH [085 / 100]: 100%|██████████| 38/38 [00:09<00:00,  3.88it/s, loss=0.237349\ttrain_bleu=87.5250\ttest_bleu=69.3415]\n",
      "EPOCH [086 / 100]: 100%|██████████| 38/38 [00:10<00:00,  3.59it/s, loss=0.126463\ttrain_bleu=81.8423\ttest_bleu=50.8317]\n",
      "EPOCH [087 / 100]: 100%|██████████| 38/38 [00:09<00:00,  3.92it/s, loss=0.233226\ttrain_bleu=82.5816\ttest_bleu=75.4992]\n",
      "EPOCH [088 / 100]: 100%|██████████| 38/38 [00:09<00:00,  4.04it/s, loss=0.221478\ttrain_bleu=75.1197\ttest_bleu=60.7838]\n",
      "EPOCH [089 / 100]: 100%|██████████| 38/38 [00:09<00:00,  3.87it/s, loss=0.326651\ttrain_bleu=86.8914\ttest_bleu=65.8557]\n",
      "EPOCH [090 / 100]: 100%|██████████| 38/38 [00:09<00:00,  3.80it/s, loss=0.268287\ttrain_bleu=78.6986\ttest_bleu=70.3465]\n",
      "EPOCH [091 / 100]: 100%|██████████| 38/38 [00:10<00:00,  3.58it/s, loss=0.190765\ttrain_bleu=87.1847\ttest_bleu=35.0112]\n",
      "EPOCH [092 / 100]: 100%|██████████| 38/38 [00:10<00:00,  3.69it/s, loss=0.116199\ttrain_bleu=87.4872\ttest_bleu=53.9123]\n",
      "EPOCH [093 / 100]: 100%|██████████| 38/38 [00:10<00:00,  3.70it/s, loss=0.183358\ttrain_bleu=82.4958\ttest_bleu=63.5164]\n",
      "EPOCH [094 / 100]: 100%|██████████| 38/38 [00:10<00:00,  3.78it/s, loss=0.221678\ttrain_bleu=86.5015\ttest_bleu=60.9217]\n",
      "EPOCH [095 / 100]: 100%|██████████| 38/38 [00:10<00:00,  3.71it/s, loss=0.138152\ttrain_bleu=81.7676\ttest_bleu=68.2690]\n",
      "EPOCH [096 / 100]: 100%|██████████| 38/38 [00:10<00:00,  3.66it/s, loss=0.083129\ttrain_bleu=88.8136\ttest_bleu=66.7695]\n",
      "EPOCH [097 / 100]: 100%|██████████| 38/38 [00:10<00:00,  3.70it/s, loss=0.218913\ttrain_bleu=84.0048\ttest_bleu=59.4103]\n",
      "EPOCH [098 / 100]: 100%|██████████| 38/38 [00:10<00:00,  3.72it/s, loss=0.287455\ttrain_bleu=72.6858\ttest_bleu=45.7852]\n",
      "EPOCH [099 / 100]: 100%|██████████| 38/38 [00:10<00:00,  3.71it/s, loss=0.075834\ttrain_bleu=85.7205\ttest_bleu=77.0617]\n",
      "EPOCH [100 / 100]: 100%|██████████| 38/38 [00:09<00:00,  3.82it/s, loss=0.110613\ttrain_bleu=89.4691\ttest_bleu=52.0366]"
     ]
    },
    {
     "name": "stdout",
     "output_type": "stream",
     "text": [
      "Saving model...\n"
     ]
    },
    {
     "name": "stderr",
     "output_type": "stream",
     "text": [
      "\n"
     ]
    }
   ],
   "source": [
    "if ENABLE_TRAINING:\n",
    "    print(\"Training...\")\n",
    "\n",
    "    metrics = {\n",
    "        \"loss\": [],\n",
    "        \"train_bleu\": [],\n",
    "        \"test_bleu\": [],\n",
    "    }\n",
    "\n",
    "    for epoch in range(NUM_EPOCHS):\n",
    "\n",
    "        model.train()\n",
    "        mean_train_bleu = 0\n",
    "        mean_test_bleu = 0\n",
    "        mean_loss = 0\n",
    "\n",
    "        epoch_num = f\"[{epoch + 1:0{len(str(NUM_EPOCHS))}d} / {NUM_EPOCHS}]\"\n",
    "        iterator = tqdm(train_iterator, desc=f\"EPOCH {epoch_num}\")\n",
    "        for idx, batch in enumerate(iterator):\n",
    "            src = batch.src.to(DEVICE)\n",
    "            tgt = batch.tgt.to(DEVICE)\n",
    "\n",
    "            out = model(src, tgt[:-1])\n",
    "            out = out.reshape(-1, out.shape[2])\n",
    "            _tgt = tgt[1:].reshape(-1)\n",
    "            optimizer.zero_grad()\n",
    "\n",
    "            loss = criterion(out, _tgt)\n",
    "\n",
    "            current_loss = loss.item()\n",
    "            current_train_bleu = get_batch_bleu(model, src, tgt, bulgarian)\n",
    "            current_test_bleu = random_eval(\n",
    "                model=model,\n",
    "                n_examples=32,\n",
    "                dataset=test_dataset,\n",
    "                src_lang=polish,\n",
    "                tgt_lang=bulgarian,\n",
    "                device=DEVICE,\n",
    "                token_limit=TOKEN_LIMIT,\n",
    "            )[\"score\"]\n",
    "\n",
    "            mean_loss += current_loss / len(train_iterator)\n",
    "            mean_train_bleu += current_train_bleu / len(train_iterator)\n",
    "            mean_test_bleu += current_test_bleu / len(train_iterator)\n",
    "\n",
    "            if idx == len(train_iterator):\n",
    "                iterator.set_postfix_str(\n",
    "                    f\"loss={mean_loss:.4f}\\t\"\n",
    "                    f\"train_bleu={mean_train_bleu:.2f}\\t\"\n",
    "                    f\"test_bleu={mean_test_bleu:.2f}\"\n",
    "                )\n",
    "            else:\n",
    "                iterator.set_postfix_str(\n",
    "                    f\"loss={current_loss:.6f}\\t\"\n",
    "                    f\"train_bleu={current_train_bleu:.4f}\\t\"\n",
    "                    f\"test_bleu={current_test_bleu:.4f}\"\n",
    "                )\n",
    "\n",
    "            loss.backward()\n",
    "            torch.nn.utils.clip_grad_norm_(model.parameters(), max_norm=1)\n",
    "            optimizer.step()\n",
    "\n",
    "        metrics[\"loss\"].append(mean_loss)\n",
    "        metrics[\"train_bleu\"].append(mean_train_bleu)\n",
    "        metrics[\"test_bleu\"].append(mean_test_bleu)\n",
    "\n",
    "    print(\"Saving model...\")\n",
    "    json.dump(model_metadata, open(MODEL_PATH + \".json\", \"w\"))\n",
    "    torch.save(model.state_dict(), MODEL_PATH)\n",
    "\n",
    "else:\n",
    "    print(\"Loading pretrained model...\")\n",
    "    print(model.load_state_dict(torch.load(MODEL_PATH)))"
   ]
  },
  {
   "cell_type": "code",
   "execution_count": 52,
   "metadata": {},
   "outputs": [],
   "source": [
    "json.dump(model_metadata, open(MODEL_PATH + \".json\", \"w\"))\n",
    "torch.save(model.state_dict(), MODEL_PATH)"
   ]
  },
  {
   "cell_type": "code",
   "execution_count": 53,
   "metadata": {},
   "outputs": [
    {
     "data": {
      "image/png": "[encoded data removed]",
      "text/plain": [
       "<Figure size 1500x500 with 2 Axes>"
      ]
     },
     "metadata": {},
     "output_type": "display_data"
    }
   ],
   "source": [
    "if ENABLE_TRAINING:\n",
    "    fig, ax = plt.subplots(1, 2, figsize=(15, 5))\n",
    "    ax[0].plot(metrics[\"train_bleu\"], c=\"orange\")\n",
    "    ax[0].plot(metrics[\"test_bleu\"], c=\"green\")\n",
    "    ax[0].legend([\"Train BLEU\", \"Test BLEU\"])\n",
    "    ax[0].set_ylabel(\"Mean BLEU score\")\n",
    "    ax[0].set_xlabel(\"Epoch\")\n",
    "    ax[0].set_title(\"BLEU score over epochs\")\n",
    "    ax[1].plot(metrics[\"loss\"], c=\"orange\")\n",
    "    ax[1].set_ylabel(\"Mean loss\")\n",
    "    ax[1].set_xlabel(\"Epoch\")\n",
    "    ax[1].set_title(\"Loss over epochs\")\n",
    "    plt.savefig(f\"{MODEL_PATH}.png\", dpi=300)\n",
    "    plt.show()"
   ]
  },
  {
   "cell_type": "markdown",
   "metadata": {},
   "source": [
    "## Ewaluacja"
   ]
  },
  {
   "cell_type": "code",
   "execution_count": 54,
   "metadata": {},
   "outputs": [],
   "source": [
    "evaluation = random_eval(\n",
    "    model=model,\n",
    "    n_examples=32,\n",
    "    dataset=test_dataset,\n",
    "    src_lang=polish,\n",
    "    tgt_lang=bulgarian,\n",
    "    device=DEVICE,\n",
    "    token_limit=TOKEN_LIMIT,\n",
    ")\n",
    "for example in evaluation[\"examples\"]:\n",
    "    print(example, file=open(f\"{MODEL_PATH}.txt\", \"a\"))\n",
    "print(f\"BLEU: {evaluation[\"score\"]}\", file=open(f\"{MODEL_PATH}.txt\", \"a\"))"
   ]
  }
 ],
 "metadata": {
  "kernelspec": {
   "display_name": "nlp_proj",
   "language": "python",
   "name": "python3"
  },
  "language_info": {
   "codemirror_mode": {
    "name": "ipython",
    "version": 3
   },
   "file_extension": ".py",
   "mimetype": "text/x-python",
   "name": "python",
   "nbconvert_exporter": "python",
   "pygments_lexer": "ipython3",
   "version": "3.12.3"
  }
 },
 "nbformat": 4,
 "nbformat_minor": 2
}
