{
 "cells": [
  {
   "cell_type": "markdown",
   "metadata": {},
   "source": [
    "# Tłumacz polsko-bułgarski oparty o architekturę transformera"
   ]
  },
  {
   "cell_type": "markdown",
   "metadata": {},
   "source": [
    "## Biblioteki i ustawienia"
   ]
  },
  {
   "cell_type": "code",
   "execution_count": 1,
   "metadata": {},
   "outputs": [],
   "source": [
    "import json\n",
    "import warnings\n",
    "\n",
    "from torchtext.data import Field, BucketIterator\n",
    "from tqdm import tqdm\n",
    "import matplotlib.pyplot as plt\n",
    "import spacy\n",
    "import torch\n",
    "import torch.nn as nn\n",
    "import torch.nn.functional as F\n",
    "import torch.optim as optim\n",
    "\n",
    "from utils import get_dataset_splits, random_eval, get_batch_bleu, print_dataset_info, get_subset"
   ]
  },
  {
   "cell_type": "code",
   "execution_count": 2,
   "metadata": {},
   "outputs": [],
   "source": [
    "warnings.filterwarnings(\"ignore\")"
   ]
  },
  {
   "cell_type": "code",
   "execution_count": 3,
   "metadata": {},
   "outputs": [
    {
     "name": "stdout",
     "output_type": "stream",
     "text": [
      "Python 3.12.3\n"
     ]
    }
   ],
   "source": [
    "!python --version"
   ]
  },
  {
   "cell_type": "code",
   "execution_count": 4,
   "metadata": {},
   "outputs": [
    {
     "data": {
      "text/plain": [
       "device(type='cpu')"
      ]
     },
     "execution_count": 4,
     "metadata": {},
     "output_type": "execute_result"
    }
   ],
   "source": [
    "DEVICE = torch.device(\"cuda\" if torch.cuda.is_available() else \"cpu\")\n",
    "DEVICE"
   ]
  },
  {
   "cell_type": "code",
   "execution_count": 5,
   "metadata": {},
   "outputs": [],
   "source": [
    "# training hyperparameters\n",
    "LEARNING_RATE = 1e-4\n",
    "NUM_EPOCHS = 50\n",
    "BATCH_SIZE = 32\n",
    "\n",
    "# model hyperparameters\n",
    "EMBEDDING_SIZE = 128\n",
    "NUM_ENC_LAYERS = 3\n",
    "NUM_DEC_LAYERS = 3\n",
    "TOKEN_LIMIT = 32\n",
    "DIM_FEEDFORWARD = 16\n",
    "NUM_HEADS = 8\n",
    "DROPOUT = 0.1\n",
    "\n",
    "# other\n",
    "ENABLE_TRAINING = True\n",
    "SUBSET_RATIO = 0.02\n",
    "CORPUS_PATH = \"./raw_data/\"\n",
    "TRAIN_DATASET_PATH = f\"./datasets/train_dataset_{TOKEN_LIMIT}.pkl\"\n",
    "TEST_DATASET_PATH = f\"./datasets/test_dataset_{TOKEN_LIMIT}.pkl\"\n",
    "MODEL_PATH = f\"./serialized_models/model_v2\""
   ]
  },
  {
   "cell_type": "markdown",
   "metadata": {},
   "source": [
    "## Tokenizatory"
   ]
  },
  {
   "cell_type": "markdown",
   "metadata": {},
   "source": [
    "Zaprojektowałem dwa tokenizatory, osobno dla każdego języka. Są one oparte o modele `pl_core_news_lg` i `uk_core_news_lg` z biblioteki `spacy`. Jak widać dla języka bułgarskiego użyty został model przeznaczony dla języka ukraińskiego. Jest to spowodowane brakiem modelu dla języka bułgarskiego w bibliotece `spacy` oraz wysokim podobieństwem tych języków. Zakładam, że nie powinno to negatywnie wpłynąć na jakość tłumaczenia."
   ]
  },
  {
   "cell_type": "code",
   "execution_count": 6,
   "metadata": {},
   "outputs": [],
   "source": [
    "nlp_pl = spacy.load(\"pl_core_news_lg\")\n",
    "nlp_bg = spacy.load(\"uk_core_news_lg\")"
   ]
  },
  {
   "cell_type": "code",
   "execution_count": 7,
   "metadata": {},
   "outputs": [],
   "source": [
    "def tokenize_pl(text):\n",
    "    return [token.text for token in nlp_pl.tokenizer(text)]\n",
    "\n",
    "def tokenize_bg(text):\n",
    "    return [token.text for token in nlp_bg.tokenizer(text)]"
   ]
  },
  {
   "cell_type": "code",
   "execution_count": 8,
   "metadata": {},
   "outputs": [],
   "source": [
    "polish = Field(\n",
    "    tokenize=tokenize_pl, lower=True,\n",
    "    init_token=\"<bos>\", eos_token=\"<eos>\"\n",
    ")\n",
    "\n",
    "bulgarian = Field(\n",
    "    tokenize=tokenize_bg, lower=True,\n",
    "    init_token=\"<bos>\", eos_token=\"<eos>\"\n",
    ")"
   ]
  },
  {
   "cell_type": "markdown",
   "metadata": {},
   "source": [
    "## Wczytanie danych"
   ]
  },
  {
   "cell_type": "code",
   "execution_count": 9,
   "metadata": {},
   "outputs": [
    {
     "name": "stdout",
     "output_type": "stream",
     "text": [
      "Loading dataset from: ./datasets/train_dataset_32.pkl\n",
      "Loading dataset from: ./datasets/test_dataset_32.pkl\n",
      "Done.\n",
      "\n",
      "<|TRAIN SET|>\n",
      "number of examples: 217228\n",
      "number of source tokens: 755338\n",
      "number of target tokens: 700961\n",
      "\n",
      "\n",
      "<|TEST SET|>\n",
      "number of examples: 24080\n",
      "number of source tokens: 83504\n",
      "number of target tokens: 77626\n",
      "\n"
     ]
    }
   ],
   "source": [
    "fields = [(\"src\", polish), (\"tgt\", bulgarian)]\n",
    "train_dataset, test_dataset = get_dataset_splits(\n",
    "    train_dataset_path=TRAIN_DATASET_PATH,\n",
    "    test_dataset_path=TEST_DATASET_PATH,\n",
    "    corpus_path=CORPUS_PATH,\n",
    "    max_len=TOKEN_LIMIT,\n",
    "    fields=fields,\n",
    ")"
   ]
  },
  {
   "cell_type": "code",
   "execution_count": 10,
   "metadata": {},
   "outputs": [
    {
     "name": "stdout",
     "output_type": "stream",
     "text": [
      "\n",
      "<|TRAIN SET|>\n",
      "number of examples: 4344\n",
      "number of source tokens: 14824\n",
      "number of target tokens: 13841\n",
      "\n",
      "\n",
      "<|TEST SET|>\n",
      "number of examples: 481\n",
      "number of source tokens: 1629\n",
      "number of target tokens: 1502\n",
      "\n"
     ]
    }
   ],
   "source": [
    "train_dataset = get_subset(train_dataset, SUBSET_RATIO)\n",
    "test_dataset = get_subset(test_dataset, SUBSET_RATIO)\n",
    "print_dataset_info(train_dataset, \"train\")\n",
    "print_dataset_info(test_dataset, \"test\")"
   ]
  },
  {
   "cell_type": "code",
   "execution_count": 11,
   "metadata": {},
   "outputs": [],
   "source": [
    "polish.build_vocab(train_dataset, max_size=10000, min_freq=2)\n",
    "bulgarian.build_vocab(train_dataset, max_size=10000, min_freq=2)"
   ]
  },
  {
   "cell_type": "code",
   "execution_count": 12,
   "metadata": {},
   "outputs": [],
   "source": [
    "train_iterator, test_iterator = BucketIterator.splits(\n",
    "    (train_dataset, test_dataset),\n",
    "    batch_size=BATCH_SIZE,\n",
    "    sort_within_batch=True,\n",
    "    sort_key = lambda x: len(x.src),\n",
    "    device=DEVICE\n",
    ")"
   ]
  },
  {
   "cell_type": "markdown",
   "metadata": {},
   "source": [
    "## Architektura modelu"
   ]
  },
  {
   "cell_type": "code",
   "execution_count": 13,
   "metadata": {},
   "outputs": [],
   "source": [
    "class PL2BG(nn.Module):\n",
    "    def __init__(\n",
    "        self,\n",
    "        embedding_size,\n",
    "        src_vocab_size,\n",
    "        tgt_vocab_size,\n",
    "        src_pad_idx,\n",
    "        num_heads,\n",
    "        num_encoder_layers,\n",
    "        num_decoder_layers,\n",
    "        dim_feedforward,\n",
    "        dropout,\n",
    "        token_limit,\n",
    "        device,\n",
    "    ):\n",
    "        super(PL2BG, self).__init__()\n",
    "        self.src_word_embedding = nn.Embedding(src_vocab_size, embedding_size)\n",
    "        self.tgt_word_embedding = nn.Embedding(tgt_vocab_size, embedding_size)\n",
    "        self.position_embedding = nn.Embedding(token_limit, embedding_size)\n",
    "        self.device = device\n",
    "        self.transformer = nn.Transformer(\n",
    "            d_model=embedding_size,\n",
    "            nhead=num_heads,\n",
    "            num_encoder_layers=num_encoder_layers,\n",
    "            num_decoder_layers=num_decoder_layers,\n",
    "            dim_feedforward=dim_feedforward,\n",
    "            dropout=dropout,\n",
    "        )\n",
    "        self.fc_1 = nn.Linear(embedding_size, 512)\n",
    "        self.fc_2 = nn.Linear(512, 512)\n",
    "        self.fc_3 = nn.Linear(512, 1024)\n",
    "        self.fc_4 = nn.Linear(1024, embedding_size)\n",
    "        self.unembedding = nn.Linear(embedding_size, tgt_vocab_size)\n",
    "        self.dropout = nn.Dropout(dropout)\n",
    "        self.src_pad_idx = src_pad_idx\n",
    "\n",
    "    def make_src_mask(self, src):\n",
    "        return src.transpose(0, 1) == self.src_pad_idx\n",
    "\n",
    "    def forward(self, src, tgt):\n",
    "        src_seq_len, n = src.shape\n",
    "        tgt_seq_len = tgt.shape[0]\n",
    "        src_positions = torch.arange(0, src_seq_len) \\\n",
    "            .unsqueeze(1).expand(src_seq_len, n).to(self.device)\n",
    "        tgt_positions = torch.arange(0, tgt_seq_len) \\\n",
    "            .unsqueeze(1).expand(tgt_seq_len, n).to(self.device)\n",
    "        embedded_src = self.dropout(\n",
    "            self.src_word_embedding(src)\n",
    "            + self.position_embedding(src_positions)\n",
    "        )\n",
    "        embedded_tgt = self.dropout(\n",
    "            self.tgt_word_embedding(tgt)\n",
    "            + self.position_embedding(tgt_positions)\n",
    "        )\n",
    "        src_padding_mask = self.make_src_mask(src)\n",
    "        tgt_mask = self.transformer \\\n",
    "            .generate_square_subsequent_mask(tgt_seq_len).to(self.device)\n",
    "        output = self.transformer(\n",
    "            embedded_src,\n",
    "            embedded_tgt,\n",
    "            src_key_padding_mask=src_padding_mask,\n",
    "            tgt_mask=tgt_mask\n",
    "        )\n",
    "        output = F.relu(self.dropout(self.fc_1(output)))\n",
    "        output = F.relu(self.dropout(self.fc_2(output)))\n",
    "        output = F.relu(self.dropout(self.fc_3(output)))\n",
    "        output = F.relu(self.dropout(self.fc_4(output)))\n",
    "        return self.unembedding(output)"
   ]
  },
  {
   "cell_type": "markdown",
   "metadata": {},
   "source": [
    "## Inicjalizacja i trening"
   ]
  },
  {
   "cell_type": "code",
   "execution_count": 14,
   "metadata": {},
   "outputs": [],
   "source": [
    "tgt_pad_idx = bulgarian.vocab.stoi[\"<pad>\"]\n",
    "src_pad_idx = polish.vocab.stoi[\"<pad>\"]\n",
    "tgt_vocab_size = len(bulgarian.vocab)\n",
    "src_vocab_size = len(polish.vocab)\n",
    "\n",
    "model = PL2BG(\n",
    "    num_encoder_layers=NUM_ENC_LAYERS,\n",
    "    num_decoder_layers=NUM_DEC_LAYERS,\n",
    "    dim_feedforward=DIM_FEEDFORWARD,\n",
    "    embedding_size=EMBEDDING_SIZE,\n",
    "    src_vocab_size=src_vocab_size,\n",
    "    tgt_vocab_size=tgt_vocab_size,\n",
    "    src_pad_idx=src_pad_idx,\n",
    "    token_limit=TOKEN_LIMIT,\n",
    "    num_heads=NUM_HEADS,\n",
    "    dropout=DROPOUT,\n",
    "    device=DEVICE,\n",
    ").to(DEVICE)\n",
    "\n",
    "optimizer = optim.Adam(model.parameters(), lr=LEARNING_RATE)\n",
    "criterion = nn.CrossEntropyLoss(ignore_index=tgt_pad_idx)"
   ]
  },
  {
   "cell_type": "code",
   "execution_count": 15,
   "metadata": {},
   "outputs": [],
   "source": [
    "layers = [layer.view(1, -1).squeeze().shape[0] for layer in model.parameters()]\n",
    "\n",
    "model_metadata = {\n",
    "    \"training_hyperparameters\": {\n",
    "        \"learning_rate\": LEARNING_RATE,\n",
    "        \"num_epochs\": NUM_EPOCHS,\n",
    "        \"batch_size\": BATCH_SIZE,\n",
    "    },\n",
    "    \"model_hyperparameters\": {\n",
    "        \"embedding_size\": EMBEDDING_SIZE,\n",
    "        \"num_enc_layers\": NUM_ENC_LAYERS,\n",
    "        \"num_dec_layers\": NUM_DEC_LAYERS,\n",
    "        \"dim_feedforward\": DIM_FEEDFORWARD,\n",
    "        \"token_limit\": TOKEN_LIMIT,\n",
    "        \"num_heads\": NUM_HEADS,\n",
    "        \"dropout\": DROPOUT,\n",
    "        \"device\": str(DEVICE),\n",
    "    },\n",
    "    \"model_architecture\": {\n",
    "        \"num_params\": sum(layers),\n",
    "        \"num_layers\": len(layers),\n",
    "    },\n",
    "    \"other\": {\n",
    "        \"subset_ratio\": SUBSET_RATIO,\n",
    "        \"model_path\": MODEL_PATH,\n",
    "        \"train_dataset_path\": TRAIN_DATASET_PATH,\n",
    "        \"test_dataset_path\": TEST_DATASET_PATH,\n",
    "        \"corpus_path\": CORPUS_PATH,\n",
    "    }\n",
    "}"
   ]
  },
  {
   "cell_type": "code",
   "execution_count": 16,
   "metadata": {},
   "outputs": [
    {
     "name": "stdout",
     "output_type": "stream",
     "text": [
      "Training...\n"
     ]
    },
    {
     "name": "stderr",
     "output_type": "stream",
     "text": [
      "EPOCH [01 / 50]: 100%|██████████| 136/136 [00:24<00:00,  5.49it/s, loss=3.970835\ttrain_bleu=33.5286\ttest_bleu=0.0000]\n",
      "EPOCH [02 / 50]: 100%|██████████| 136/136 [00:32<00:00,  4.23it/s, loss=3.897615\ttrain_bleu=22.9314\ttest_bleu=4.2959]\n",
      "EPOCH [03 / 50]: 100%|██████████| 136/136 [00:38<00:00,  3.58it/s, loss=2.494808\ttrain_bleu=43.3872\ttest_bleu=9.1760] \n",
      "EPOCH [04 / 50]: 100%|██████████| 136/136 [00:41<00:00,  3.28it/s, loss=1.821642\ttrain_bleu=44.8996\ttest_bleu=7.7674] \n",
      "EPOCH [05 / 50]: 100%|██████████| 136/136 [00:44<00:00,  3.03it/s, loss=2.757331\ttrain_bleu=24.7314\ttest_bleu=15.3487]\n",
      "EPOCH [06 / 50]: 100%|██████████| 136/136 [00:43<00:00,  3.11it/s, loss=1.846338\ttrain_bleu=48.3344\ttest_bleu=21.8857]\n",
      "EPOCH [07 / 50]: 100%|██████████| 136/136 [00:45<00:00,  3.02it/s, loss=1.689707\ttrain_bleu=43.9056\ttest_bleu=16.4924]\n",
      "EPOCH [08 / 50]: 100%|██████████| 136/136 [00:45<00:00,  2.99it/s, loss=2.055777\ttrain_bleu=51.0719\ttest_bleu=23.7250]\n",
      "EPOCH [09 / 50]: 100%|██████████| 136/136 [00:48<00:00,  2.82it/s, loss=3.102565\ttrain_bleu=17.3510\ttest_bleu=21.1184]\n",
      "EPOCH [10 / 50]: 100%|██████████| 136/136 [00:44<00:00,  3.05it/s, loss=1.976757\ttrain_bleu=50.1687\ttest_bleu=30.2004]\n",
      "EPOCH [11 / 50]: 100%|██████████| 136/136 [00:46<00:00,  2.94it/s, loss=1.217470\ttrain_bleu=66.7300\ttest_bleu=29.0893]\n",
      "EPOCH [12 / 50]: 100%|██████████| 136/136 [00:46<00:00,  2.91it/s, loss=0.848840\ttrain_bleu=70.9892\ttest_bleu=39.9295]\n",
      "EPOCH [13 / 50]: 100%|██████████| 136/136 [00:45<00:00,  2.98it/s, loss=2.318776\ttrain_bleu=38.9457\ttest_bleu=26.6343]\n",
      "EPOCH [14 / 50]: 100%|██████████| 136/136 [00:44<00:00,  3.04it/s, loss=2.193672\ttrain_bleu=37.0617\ttest_bleu=30.2535]\n",
      "EPOCH [15 / 50]: 100%|██████████| 136/136 [00:44<00:00,  3.04it/s, loss=1.398613\ttrain_bleu=61.4893\ttest_bleu=30.2867]\n",
      "EPOCH [16 / 50]: 100%|██████████| 136/136 [00:44<00:00,  3.05it/s, loss=1.102748\ttrain_bleu=64.6038\ttest_bleu=40.5133]\n",
      "EPOCH [17 / 50]: 100%|██████████| 136/136 [00:45<00:00,  2.97it/s, loss=1.659953\ttrain_bleu=55.1254\ttest_bleu=27.5747]\n",
      "EPOCH [18 / 50]: 100%|██████████| 136/136 [00:45<00:00,  2.99it/s, loss=0.707123\ttrain_bleu=77.7409\ttest_bleu=33.8151]\n",
      "EPOCH [19 / 50]: 100%|██████████| 136/136 [00:47<00:00,  2.85it/s, loss=1.755917\ttrain_bleu=55.3856\ttest_bleu=29.0179]\n",
      "EPOCH [20 / 50]: 100%|██████████| 136/136 [00:48<00:00,  2.81it/s, loss=1.681249\ttrain_bleu=19.6880\ttest_bleu=44.1394]\n",
      "EPOCH [21 / 50]: 100%|██████████| 136/136 [00:47<00:00,  2.86it/s, loss=0.396013\ttrain_bleu=84.3267\ttest_bleu=42.1880]\n",
      "EPOCH [22 / 50]: 100%|██████████| 136/136 [00:46<00:00,  2.93it/s, loss=0.789784\ttrain_bleu=74.9597\ttest_bleu=36.6366]\n",
      "EPOCH [23 / 50]: 100%|██████████| 136/136 [00:48<00:00,  2.81it/s, loss=0.545196\ttrain_bleu=79.8061\ttest_bleu=25.7673]\n",
      "EPOCH [24 / 50]: 100%|██████████| 136/136 [00:47<00:00,  2.87it/s, loss=0.840368\ttrain_bleu=66.3744\ttest_bleu=32.5148]\n",
      "EPOCH [25 / 50]: 100%|██████████| 136/136 [00:47<00:00,  2.89it/s, loss=0.512516\ttrain_bleu=77.4477\ttest_bleu=41.6724]\n",
      "EPOCH [26 / 50]: 100%|██████████| 136/136 [00:46<00:00,  2.92it/s, loss=0.446098\ttrain_bleu=80.9266\ttest_bleu=45.4376]\n",
      "EPOCH [27 / 50]: 100%|██████████| 136/136 [00:45<00:00,  2.97it/s, loss=0.883986\ttrain_bleu=64.8363\ttest_bleu=32.0922]\n",
      "EPOCH [28 / 50]: 100%|██████████| 136/136 [00:48<00:00,  2.82it/s, loss=0.636316\ttrain_bleu=80.8383\ttest_bleu=36.1211]\n",
      "EPOCH [29 / 50]: 100%|██████████| 136/136 [00:47<00:00,  2.86it/s, loss=0.811656\ttrain_bleu=72.0272\ttest_bleu=38.8985]\n",
      "EPOCH [30 / 50]: 100%|██████████| 136/136 [00:45<00:00,  2.96it/s, loss=0.626033\ttrain_bleu=80.5198\ttest_bleu=36.6839]\n",
      "EPOCH [31 / 50]: 100%|██████████| 136/136 [00:46<00:00,  2.95it/s, loss=0.569616\ttrain_bleu=85.7191\ttest_bleu=38.7198]\n",
      "EPOCH [32 / 50]: 100%|██████████| 136/136 [00:47<00:00,  2.88it/s, loss=0.722181\ttrain_bleu=69.6213\ttest_bleu=28.5365]\n",
      "EPOCH [33 / 50]: 100%|██████████| 136/136 [00:46<00:00,  2.92it/s, loss=0.446337\ttrain_bleu=79.6344\ttest_bleu=28.4578]\n",
      "EPOCH [34 / 50]: 100%|██████████| 136/136 [00:48<00:00,  2.82it/s, loss=0.427582\ttrain_bleu=84.1677\ttest_bleu=40.5946]\n",
      "EPOCH [35 / 50]: 100%|██████████| 136/136 [00:46<00:00,  2.90it/s, loss=0.227910\ttrain_bleu=80.5797\ttest_bleu=49.4618]\n",
      "EPOCH [36 / 50]: 100%|██████████| 136/136 [00:46<00:00,  2.90it/s, loss=0.378918\ttrain_bleu=75.3266\ttest_bleu=40.2059]\n",
      "EPOCH [37 / 50]: 100%|██████████| 136/136 [00:48<00:00,  2.78it/s, loss=0.641377\ttrain_bleu=57.3829\ttest_bleu=37.7799]\n",
      "EPOCH [38 / 50]: 100%|██████████| 136/136 [00:48<00:00,  2.80it/s, loss=0.420061\ttrain_bleu=82.1652\ttest_bleu=25.8347]\n",
      "EPOCH [39 / 50]: 100%|██████████| 136/136 [00:48<00:00,  2.80it/s, loss=0.415791\ttrain_bleu=89.8264\ttest_bleu=57.6705]\n",
      "EPOCH [40 / 50]: 100%|██████████| 136/136 [00:49<00:00,  2.73it/s, loss=0.201924\ttrain_bleu=90.9727\ttest_bleu=48.8776]\n",
      "EPOCH [41 / 50]: 100%|██████████| 136/136 [00:47<00:00,  2.89it/s, loss=0.400691\ttrain_bleu=87.6505\ttest_bleu=47.7477]\n",
      "EPOCH [42 / 50]: 100%|██████████| 136/136 [00:45<00:00,  2.97it/s, loss=0.170587\ttrain_bleu=72.2776\ttest_bleu=39.5247]\n",
      "EPOCH [43 / 50]: 100%|██████████| 136/136 [00:46<00:00,  2.89it/s, loss=0.435746\ttrain_bleu=89.6521\ttest_bleu=47.6239]\n",
      "EPOCH [44 / 50]: 100%|██████████| 136/136 [00:47<00:00,  2.85it/s, loss=0.284797\ttrain_bleu=83.4493\ttest_bleu=38.6800]\n",
      "EPOCH [45 / 50]: 100%|██████████| 136/136 [00:47<00:00,  2.84it/s, loss=0.346326\ttrain_bleu=81.5759\ttest_bleu=55.3085]\n",
      "EPOCH [46 / 50]: 100%|██████████| 136/136 [00:52<00:00,  2.58it/s, loss=0.585145\ttrain_bleu=82.2952\ttest_bleu=45.2763]\n",
      "EPOCH [47 / 50]: 100%|██████████| 136/136 [01:31<00:00,  1.48it/s, loss=0.257033\ttrain_bleu=85.6371\ttest_bleu=45.6893]\n",
      "EPOCH [48 / 50]: 100%|██████████| 136/136 [00:49<00:00,  2.76it/s, loss=0.298212\ttrain_bleu=88.2150\ttest_bleu=35.6191]\n",
      "EPOCH [49 / 50]: 100%|██████████| 136/136 [00:49<00:00,  2.76it/s, loss=0.607695\ttrain_bleu=73.6976\ttest_bleu=35.6429]\n",
      "EPOCH [50 / 50]: 100%|██████████| 136/136 [00:51<00:00,  2.66it/s, loss=0.280669\ttrain_bleu=88.7821\ttest_bleu=45.3615]"
     ]
    },
    {
     "name": "stdout",
     "output_type": "stream",
     "text": [
      "Saving model...\n"
     ]
    },
    {
     "name": "stderr",
     "output_type": "stream",
     "text": [
      "\n"
     ]
    }
   ],
   "source": [
    "if ENABLE_TRAINING:\n",
    "    print(\"Training...\")\n",
    "\n",
    "    metrics = {\n",
    "        \"loss\": [],\n",
    "        \"train_bleu\": [],\n",
    "        \"test_bleu\": [],\n",
    "    }\n",
    "\n",
    "    for epoch in range(NUM_EPOCHS):\n",
    "\n",
    "        model.train()\n",
    "        mean_train_bleu = 0\n",
    "        mean_test_bleu = 0\n",
    "        mean_loss = 0\n",
    "\n",
    "        epoch_num = f\"[{epoch + 1:0{len(str(NUM_EPOCHS))}d} / {NUM_EPOCHS}]\"\n",
    "        iterator = tqdm(train_iterator, desc=f\"EPOCH {epoch_num}\")\n",
    "        for idx, batch in enumerate(iterator):\n",
    "            src = batch.src.to(DEVICE)\n",
    "            tgt = batch.tgt.to(DEVICE)\n",
    "\n",
    "            out = model(src, tgt[:-1])\n",
    "            out = out.reshape(-1, out.shape[2])\n",
    "            _tgt = tgt[1:].reshape(-1)\n",
    "            optimizer.zero_grad()\n",
    "\n",
    "            loss = criterion(out, _tgt)\n",
    "\n",
    "            current_loss = loss.item()\n",
    "            current_train_bleu = get_batch_bleu(model, src, tgt, bulgarian)\n",
    "            current_test_bleu = random_eval(\n",
    "                model=model,\n",
    "                n_examples=32,\n",
    "                dataset=test_dataset,\n",
    "                src_lang=polish,\n",
    "                tgt_lang=bulgarian,\n",
    "                device=DEVICE,\n",
    "                token_limit=TOKEN_LIMIT,\n",
    "            )[\"score\"]\n",
    "\n",
    "            mean_loss += current_loss / len(train_iterator)\n",
    "            mean_train_bleu += current_train_bleu / len(train_iterator)\n",
    "            mean_test_bleu += current_test_bleu / len(train_iterator)\n",
    "\n",
    "            if idx == len(train_iterator):\n",
    "                iterator.set_postfix_str(\n",
    "                    f\"loss={mean_loss:.4f}\\t\"\n",
    "                    f\"train_bleu={mean_train_bleu:.2f}\\t\"\n",
    "                    f\"test_bleu={mean_test_bleu:.2f}\"\n",
    "                )\n",
    "            else:\n",
    "                iterator.set_postfix_str(\n",
    "                    f\"loss={current_loss:.6f}\\t\"\n",
    "                    f\"train_bleu={current_train_bleu:.4f}\\t\"\n",
    "                    f\"test_bleu={current_test_bleu:.4f}\"\n",
    "                )\n",
    "\n",
    "            loss.backward()\n",
    "            torch.nn.utils.clip_grad_norm_(model.parameters(), max_norm=1)\n",
    "            optimizer.step()\n",
    "\n",
    "        metrics[\"loss\"].append(mean_loss)\n",
    "        metrics[\"train_bleu\"].append(mean_train_bleu)\n",
    "        metrics[\"test_bleu\"].append(mean_test_bleu)\n",
    "\n",
    "    print(\"Saving model...\")\n",
    "    json.dump(model_metadata, open(MODEL_PATH + \".json\", \"w\"))\n",
    "    torch.save(model.state_dict(), MODEL_PATH)\n",
    "\n",
    "else:\n",
    "    print(\"Loading pretrained model...\")\n",
    "    print(model.load_state_dict(torch.load(MODEL_PATH)))"
   ]
  },
  {
   "cell_type": "code",
   "execution_count": 17,
   "metadata": {},
   "outputs": [],
   "source": [
    "json.dump(model_metadata, open(MODEL_PATH + \".json\", \"w\"))\n",
    "torch.save(model.state_dict(), MODEL_PATH)"
   ]
  },
  {
   "cell_type": "code",
   "execution_count": 18,
   "metadata": {},
   "outputs": [
    {
     "data": {
      "image/png": "[encoded data removed]",
      "text/plain": [
       "<Figure size 1500x500 with 2 Axes>"
      ]
     },
     "metadata": {},
     "output_type": "display_data"
    }
   ],
   "source": [
    "if ENABLE_TRAINING:\n",
    "    fig, ax = plt.subplots(1, 2, figsize=(15, 5))\n",
    "    ax[0].plot(metrics[\"train_bleu\"], c=\"orange\")\n",
    "    ax[0].plot(metrics[\"test_bleu\"], c=\"green\")\n",
    "    ax[0].legend([\"Train BLEU\", \"Test BLEU\"])\n",
    "    ax[0].set_ylabel(\"Mean BLEU score\")\n",
    "    ax[0].set_xlabel(\"Epoch\")\n",
    "    ax[0].set_title(\"BLEU score over epochs\")\n",
    "    ax[1].plot(metrics[\"loss\"], c=\"orange\")\n",
    "    ax[1].set_ylabel(\"Mean loss\")\n",
    "    ax[1].set_xlabel(\"Epoch\")\n",
    "    ax[1].set_title(\"Loss over epochs\")\n",
    "    plt.savefig(f\"{MODEL_PATH}.png\", dpi=300)\n",
    "    plt.show()"
   ]
  },
  {
   "cell_type": "markdown",
   "metadata": {},
   "source": [
    "## Ewaluacja"
   ]
  },
  {
   "cell_type": "code",
   "execution_count": 19,
   "metadata": {},
   "outputs": [],
   "source": [
    "evaluation = random_eval(\n",
    "    model=model,\n",
    "    n_examples=32,\n",
    "    dataset=test_dataset,\n",
    "    src_lang=polish,\n",
    "    tgt_lang=bulgarian,\n",
    "    device=DEVICE,\n",
    "    token_limit=TOKEN_LIMIT,\n",
    ")\n",
    "for example in evaluation[\"examples\"]:\n",
    "    print(example, file=open(f\"{MODEL_PATH}.txt\", \"a\"))\n",
    "print(f\"BLEU: {evaluation[\"score\"]}\", file=open(f\"{MODEL_PATH}.txt\", \"a\"))"
   ]
  }
 ],
 "metadata": {
  "kernelspec": {
   "display_name": "nlp_proj",
   "language": "python",
   "name": "python3"
  },
  "language_info": {
   "codemirror_mode": {
    "name": "ipython",
    "version": 3
   },
   "file_extension": ".py",
   "mimetype": "text/x-python",
   "name": "python",
   "nbconvert_exporter": "python",
   "pygments_lexer": "ipython3",
   "version": "3.12.3"
  }
 },
 "nbformat": 4,
 "nbformat_minor": 2
}
